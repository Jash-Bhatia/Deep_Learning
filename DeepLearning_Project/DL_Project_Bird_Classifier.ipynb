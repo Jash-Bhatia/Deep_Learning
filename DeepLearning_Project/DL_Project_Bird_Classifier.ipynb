{
  "nbformat": 4,
  "nbformat_minor": 0,
  "metadata": {
    "colab": {
      "name": "DL_Project_Bird_Classifier.ipynb",
      "provenance": [],
      "collapsed_sections": [],
      "mount_file_id": "1UXFyhJ7KiBWKFwO5CiROSbobKozn3B3H",
      "authorship_tag": "ABX9TyPmtsGd0WJfqQTYU9XpOG0O",
      "include_colab_link": true
    },
    "kernelspec": {
      "name": "python3",
      "display_name": "Python 3"
    },
    "language_info": {
      "name": "python"
    },
    "accelerator": "GPU"
  },
  "cells": [
    {
      "cell_type": "markdown",
      "metadata": {
        "id": "view-in-github",
        "colab_type": "text"
      },
      "source": [
        "<a href=\"https://colab.research.google.com/github/Jash-Bhatia/Deep_Learning/blob/main/DeepLearning_Project/DL_Project_Bird_Classifier.ipynb\" target=\"_parent\"><img src=\"https://colab.research.google.com/assets/colab-badge.svg\" alt=\"Open In Colab\"/></a>"
      ]
    },
    {
      "cell_type": "code",
      "metadata": {
        "id": "JJRAUUwaa14X"
      },
      "source": [
        "import pandas as pd\n",
        "import os\n",
        "import shutil\n",
        "import glob\n",
        "import cv2\n",
        "\n",
        "import tensorflow as tf\n",
        "from tensorflow.keras.models import Sequential, Model\n",
        "from tensorflow.keras.layers import *\n",
        "from tensorflow.keras.optimizers import *\n",
        "from tensorflow.keras.applications import *\n",
        "from tensorflow.keras.callbacks import *\n",
        "from tensorflow.keras.initializers import *\n",
        "from tensorflow.keras.preprocessing.image import ImageDataGenerator\n",
        "from tensorflow.python.client import device_lib"
      ],
      "execution_count": 6,
      "outputs": []
    },
    {
      "cell_type": "code",
      "metadata": {
        "id": "4aO1gKxFfxAx"
      },
      "source": [
        "!mkdir '/content/dataset'"
      ],
      "execution_count": 2,
      "outputs": []
    },
    {
      "cell_type": "code",
      "metadata": {
        "id": "YLyMWG-ob4i3"
      },
      "source": [
        "path = '/content/drive/MyDrive/Sem_6/Deep Learning/Project/consolidated.zip'\n",
        "import zipfile\n",
        "with zipfile.ZipFile(path, 'r') as zip_ref:\n",
        "    zip_ref.extractall('/content/dataset')"
      ],
      "execution_count": 3,
      "outputs": []
    },
    {
      "cell_type": "code",
      "metadata": {
        "id": "L0nisYLVbEAB"
      },
      "source": [
        "PATH = \"/content/dataset\""
      ],
      "execution_count": 7,
      "outputs": []
    },
    {
      "cell_type": "code",
      "metadata": {
        "colab": {
          "base_uri": "https://localhost:8080/"
        },
        "id": "MweRnhCsbF2U",
        "outputId": "b61c50bf-1815-4008-f6d7-7098a5125930"
      },
      "source": [
        "classes = os.listdir('/content/dataset')\n",
        "len(classes)"
      ],
      "execution_count": 8,
      "outputs": [
        {
          "output_type": "execute_result",
          "data": {
            "text/plain": [
              "260"
            ]
          },
          "metadata": {
            "tags": []
          },
          "execution_count": 8
        }
      ]
    },
    {
      "cell_type": "code",
      "metadata": {
        "id": "8boUouyCbH39"
      },
      "source": [
        "images = []\n",
        "label = []\n",
        "for bird in classes:\n",
        "    x = os.listdir(PATH+'/'+bird)\n",
        "    for i in x:\n",
        "        images.append(bird+'_'+i)\n",
        "        label.append(bird)"
      ],
      "execution_count": 9,
      "outputs": []
    },
    {
      "cell_type": "code",
      "metadata": {
        "id": "Rfv8mTJQc90M"
      },
      "source": [
        "df_train = pd.DataFrame(list(zip(images, label)), columns=['Image', 'Bird'])"
      ],
      "execution_count": 10,
      "outputs": []
    },
    {
      "cell_type": "code",
      "metadata": {
        "id": "_sbAqtkjz2qR"
      },
      "source": [
        "df_train.head()"
      ],
      "execution_count": null,
      "outputs": []
    },
    {
      "cell_type": "code",
      "metadata": {
        "colab": {
          "base_uri": "https://localhost:8080/"
        },
        "id": "Vi4XdzAHeidk",
        "outputId": "54f7bc3f-21b4-475a-f9dd-b70516d6ca56"
      },
      "source": [
        "batch_size = 64\n",
        "train_input_shape = (224, 224, 3)\n",
        "n_classes = len(classes)\n",
        "\n",
        "train_datagen = ImageDataGenerator(validation_split=0.2,\n",
        "                                   rescale=1./255.,\n",
        "                                   rotation_range=15,\n",
        "                                   width_shift_range=0.1,\n",
        "                                   height_shift_range=0.1,\n",
        "                                   shear_range=0.15,\n",
        "                                   zoom_range=0.5,\n",
        "                                   #horizontal_flip=True,\n",
        "                                   #vertical_flip=True,\n",
        "                                  )\n",
        "\n",
        "train_generator = train_datagen.flow_from_directory(directory=PATH,\n",
        "                                                    class_mode='categorical',\n",
        "                                                    target_size=train_input_shape[0:2],\n",
        "                                                    batch_size=batch_size,\n",
        "                                                    subset=\"training\",\n",
        "                                                    shuffle=True,\n",
        "                                                    classes=classes\n",
        "                                                   )\n",
        "\n",
        "valid_generator = train_datagen.flow_from_directory(directory=PATH,\n",
        "                                                    class_mode='categorical',\n",
        "                                                    target_size=train_input_shape[0:2],\n",
        "                                                    batch_size=batch_size,\n",
        "                                                    subset=\"validation\",\n",
        "                                                    shuffle=True,\n",
        "                                                    classes=classes\n",
        "                                                   )\n",
        "\n",
        "STEP_SIZE_TRAIN = train_generator.n//train_generator.batch_size\n",
        "STEP_SIZE_VALID = valid_generator.n//valid_generator.batch_size\n",
        "print(\"Total number of batches =\", STEP_SIZE_TRAIN, \"and\", STEP_SIZE_VALID)"
      ],
      "execution_count": 11,
      "outputs": [
        {
          "output_type": "stream",
          "text": [
            "Found 31469 images belonging to 260 classes.\n",
            "Found 7740 images belonging to 260 classes.\n",
            "Total number of batches = 491 and 120\n"
          ],
          "name": "stdout"
        }
      ]
    },
    {
      "cell_type": "code",
      "metadata": {
        "id": "EuB0V3VSepoL"
      },
      "source": [
        "base_model = ResNet50(weights='imagenet', include_top=False, input_shape=train_input_shape)\n",
        "\n",
        "for layer in base_model.layers:\n",
        "    layer.trainable = True\n",
        "# Add layers at the end\n",
        "X = base_model.output\n",
        "X = Flatten()(X)\n",
        "\n",
        "X = Dense(1024, kernel_initializer='he_uniform')(X)\n",
        "X = Dropout(0.4)(X)\n",
        "X = BatchNormalization()(X)\n",
        "X = Activation('relu')(X)\n",
        "\n",
        "X = Dense(512, kernel_initializer='he_uniform')(X)\n",
        "X = Dropout(0.4)(X)\n",
        "X = BatchNormalization()(X)\n",
        "X = Activation('relu')(X)\n",
        "\n",
        "X = Dense(256, kernel_initializer='he_uniform')(X)\n",
        "X = Dropout(0.4)(X)\n",
        "X = BatchNormalization()(X)\n",
        "X = Activation('relu')(X)\n",
        "\n",
        "# X = Dense(16, kernel_initializer='he_uniform')(X)\n",
        "# X = Dropout(0.4)(X)\n",
        "# X = BatchNormalization()(X)\n",
        "# X = Activation('relu')(X)\n",
        "\n",
        "output = Dense(n_classes, activation='softmax')(X)\n",
        "model = Model(inputs=base_model.input, outputs=output)"
      ],
      "execution_count": 28,
      "outputs": []
    },
    {
      "cell_type": "code",
      "metadata": {
        "id": "nZ90ImC3_-fH"
      },
      "source": [
        "model.summary()"
      ],
      "execution_count": null,
      "outputs": []
    },
    {
      "cell_type": "code",
      "metadata": {
        "id": "11n0j3Fre26_"
      },
      "source": [
        "optimizer = Adam(lr=0.0001)\n",
        "model.compile(loss='categorical_crossentropy',\n",
        "              optimizer=optimizer, \n",
        "              metrics=['accuracy'])"
      ],
      "execution_count": 29,
      "outputs": []
    },
    {
      "cell_type": "code",
      "metadata": {
        "id": "76CCpRB1fEQe"
      },
      "source": [
        "n_epoch = 15\n",
        "\n",
        "early_stop = EarlyStopping(monitor='val_loss', patience=3, verbose=1, \n",
        "                           mode='auto', restore_best_weights=True)\n",
        "\n",
        "reduce_lr = ReduceLROnPlateau(monitor='val_loss', factor=0.1, patience=2, \n",
        "                              verbose=1, mode='auto')"
      ],
      "execution_count": 30,
      "outputs": []
    },
    {
      "cell_type": "code",
      "metadata": {
        "id": "yM6AqWS7fIhu",
        "colab": {
          "base_uri": "https://localhost:8080/"
        },
        "outputId": "5a03836e-e664-4b0b-ba31-0078570a2eb6"
      },
      "source": [
        "# Train the model - all layers\n",
        "history1 = model.fit_generator(generator=train_generator, steps_per_epoch=STEP_SIZE_TRAIN,\n",
        "                              validation_data=valid_generator, validation_steps=STEP_SIZE_VALID,\n",
        "                              epochs=n_epoch,\n",
        "                              shuffle=True,\n",
        "                              verbose=1,\n",
        "                              callbacks=[reduce_lr],\n",
        "                              use_multiprocessing=True,\n",
        "                              workers=16\n",
        "                             )\n"
      ],
      "execution_count": 31,
      "outputs": [
        {
          "output_type": "stream",
          "text": [
            "/usr/local/lib/python3.7/dist-packages/tensorflow/python/keras/engine/training.py:1844: UserWarning: `Model.fit_generator` is deprecated and will be removed in a future version. Please use `Model.fit`, which supports generators.\n",
            "  warnings.warn('`Model.fit_generator` is deprecated and '\n"
          ],
          "name": "stderr"
        },
        {
          "output_type": "stream",
          "text": [
            "Epoch 1/15\n",
            "WARNING:tensorflow:multiprocessing can interact badly with TensorFlow, causing nondeterministic deadlocks. For high performance data pipelines tf.data is recommended.\n",
            "491/491 [==============================] - ETA: 0s - loss: 5.4510 - accuracy: 0.0299WARNING:tensorflow:multiprocessing can interact badly with TensorFlow, causing nondeterministic deadlocks. For high performance data pipelines tf.data is recommended.\n",
            "491/491 [==============================] - 474s 935ms/step - loss: 5.4503 - accuracy: 0.0299 - val_loss: 5.5201 - val_accuracy: 0.0148\n",
            "Epoch 2/15\n",
            "WARNING:tensorflow:multiprocessing can interact badly with TensorFlow, causing nondeterministic deadlocks. For high performance data pipelines tf.data is recommended.\n",
            "491/491 [==============================] - ETA: 0s - loss: 4.0768 - accuracy: 0.2788WARNING:tensorflow:multiprocessing can interact badly with TensorFlow, causing nondeterministic deadlocks. For high performance data pipelines tf.data is recommended.\n",
            "491/491 [==============================] - 467s 931ms/step - loss: 4.0762 - accuracy: 0.2789 - val_loss: 3.6010 - val_accuracy: 0.5008\n",
            "Epoch 3/15\n",
            "WARNING:tensorflow:multiprocessing can interact badly with TensorFlow, causing nondeterministic deadlocks. For high performance data pipelines tf.data is recommended.\n",
            "491/491 [==============================] - ETA: 0s - loss: 2.8687 - accuracy: 0.5386WARNING:tensorflow:multiprocessing can interact badly with TensorFlow, causing nondeterministic deadlocks. For high performance data pipelines tf.data is recommended.\n",
            "491/491 [==============================] - 467s 932ms/step - loss: 2.8683 - accuracy: 0.5387 - val_loss: 1.9495 - val_accuracy: 0.7092\n",
            "Epoch 4/15\n",
            "WARNING:tensorflow:multiprocessing can interact badly with TensorFlow, causing nondeterministic deadlocks. For high performance data pipelines tf.data is recommended.\n",
            "491/491 [==============================] - ETA: 0s - loss: 1.9409 - accuracy: 0.7119WARNING:tensorflow:multiprocessing can interact badly with TensorFlow, causing nondeterministic deadlocks. For high performance data pipelines tf.data is recommended.\n",
            "491/491 [==============================] - 468s 933ms/step - loss: 1.9406 - accuracy: 0.7119 - val_loss: 1.1477 - val_accuracy: 0.7809\n",
            "Epoch 5/15\n",
            "WARNING:tensorflow:multiprocessing can interact badly with TensorFlow, causing nondeterministic deadlocks. For high performance data pipelines tf.data is recommended.\n",
            "491/491 [==============================] - ETA: 0s - loss: 1.3020 - accuracy: 0.8120WARNING:tensorflow:multiprocessing can interact badly with TensorFlow, causing nondeterministic deadlocks. For high performance data pipelines tf.data is recommended.\n",
            "491/491 [==============================] - 466s 929ms/step - loss: 1.3018 - accuracy: 0.8120 - val_loss: 0.9096 - val_accuracy: 0.8220\n",
            "Epoch 6/15\n",
            "WARNING:tensorflow:multiprocessing can interact badly with TensorFlow, causing nondeterministic deadlocks. For high performance data pipelines tf.data is recommended.\n",
            "491/491 [==============================] - ETA: 0s - loss: 0.8963 - accuracy: 0.8652WARNING:tensorflow:multiprocessing can interact badly with TensorFlow, causing nondeterministic deadlocks. For high performance data pipelines tf.data is recommended.\n",
            "491/491 [==============================] - 463s 922ms/step - loss: 0.8963 - accuracy: 0.8652 - val_loss: 0.8110 - val_accuracy: 0.8275\n",
            "Epoch 7/15\n",
            "WARNING:tensorflow:multiprocessing can interact badly with TensorFlow, causing nondeterministic deadlocks. For high performance data pipelines tf.data is recommended.\n",
            "491/491 [==============================] - ETA: 0s - loss: 0.6728 - accuracy: 0.8934WARNING:tensorflow:multiprocessing can interact badly with TensorFlow, causing nondeterministic deadlocks. For high performance data pipelines tf.data is recommended.\n",
            "491/491 [==============================] - 464s 926ms/step - loss: 0.6728 - accuracy: 0.8934 - val_loss: 0.6525 - val_accuracy: 0.8542\n",
            "Epoch 8/15\n",
            "WARNING:tensorflow:multiprocessing can interact badly with TensorFlow, causing nondeterministic deadlocks. For high performance data pipelines tf.data is recommended.\n",
            "491/491 [==============================] - ETA: 0s - loss: 0.5208 - accuracy: 0.9112WARNING:tensorflow:multiprocessing can interact badly with TensorFlow, causing nondeterministic deadlocks. For high performance data pipelines tf.data is recommended.\n",
            "491/491 [==============================] - 464s 926ms/step - loss: 0.5208 - accuracy: 0.9112 - val_loss: 0.6291 - val_accuracy: 0.8579\n",
            "Epoch 9/15\n",
            "WARNING:tensorflow:multiprocessing can interact badly with TensorFlow, causing nondeterministic deadlocks. For high performance data pipelines tf.data is recommended.\n",
            "491/491 [==============================] - ETA: 0s - loss: 0.4498 - accuracy: 0.9193WARNING:tensorflow:multiprocessing can interact badly with TensorFlow, causing nondeterministic deadlocks. For high performance data pipelines tf.data is recommended.\n",
            "491/491 [==============================] - 470s 936ms/step - loss: 0.4497 - accuracy: 0.9193 - val_loss: 0.6700 - val_accuracy: 0.8495\n",
            "Epoch 10/15\n",
            "WARNING:tensorflow:multiprocessing can interact badly with TensorFlow, causing nondeterministic deadlocks. For high performance data pipelines tf.data is recommended.\n",
            "491/491 [==============================] - ETA: 0s - loss: 0.3602 - accuracy: 0.9360WARNING:tensorflow:multiprocessing can interact badly with TensorFlow, causing nondeterministic deadlocks. For high performance data pipelines tf.data is recommended.\n",
            "491/491 [==============================] - 469s 933ms/step - loss: 0.3602 - accuracy: 0.9360 - val_loss: 0.5453 - val_accuracy: 0.8745\n",
            "Epoch 11/15\n",
            "WARNING:tensorflow:multiprocessing can interact badly with TensorFlow, causing nondeterministic deadlocks. For high performance data pipelines tf.data is recommended.\n",
            "491/491 [==============================] - ETA: 0s - loss: 0.3212 - accuracy: 0.9372WARNING:tensorflow:multiprocessing can interact badly with TensorFlow, causing nondeterministic deadlocks. For high performance data pipelines tf.data is recommended.\n",
            "491/491 [==============================] - 466s 928ms/step - loss: 0.3212 - accuracy: 0.9372 - val_loss: 0.5313 - val_accuracy: 0.8859\n",
            "Epoch 12/15\n",
            "WARNING:tensorflow:multiprocessing can interact badly with TensorFlow, causing nondeterministic deadlocks. For high performance data pipelines tf.data is recommended.\n",
            "491/491 [==============================] - ETA: 0s - loss: 0.2787 - accuracy: 0.9445WARNING:tensorflow:multiprocessing can interact badly with TensorFlow, causing nondeterministic deadlocks. For high performance data pipelines tf.data is recommended.\n",
            "491/491 [==============================] - 467s 932ms/step - loss: 0.2787 - accuracy: 0.9445 - val_loss: 0.7379 - val_accuracy: 0.8349\n",
            "Epoch 13/15\n",
            "WARNING:tensorflow:multiprocessing can interact badly with TensorFlow, causing nondeterministic deadlocks. For high performance data pipelines tf.data is recommended.\n",
            "491/491 [==============================] - ETA: 0s - loss: 0.2654 - accuracy: 0.9476WARNING:tensorflow:multiprocessing can interact badly with TensorFlow, causing nondeterministic deadlocks. For high performance data pipelines tf.data is recommended.\n",
            "491/491 [==============================] - 469s 936ms/step - loss: 0.2654 - accuracy: 0.9476 - val_loss: 0.5839 - val_accuracy: 0.8681\n",
            "\n",
            "Epoch 00013: ReduceLROnPlateau reducing learning rate to 9.999999747378752e-06.\n",
            "Epoch 14/15\n",
            "WARNING:tensorflow:multiprocessing can interact badly with TensorFlow, causing nondeterministic deadlocks. For high performance data pipelines tf.data is recommended.\n",
            "491/491 [==============================] - ETA: 0s - loss: 0.1919 - accuracy: 0.9618WARNING:tensorflow:multiprocessing can interact badly with TensorFlow, causing nondeterministic deadlocks. For high performance data pipelines tf.data is recommended.\n",
            "491/491 [==============================] - 465s 927ms/step - loss: 0.1918 - accuracy: 0.9618 - val_loss: 0.3509 - val_accuracy: 0.9230\n",
            "Epoch 15/15\n",
            "WARNING:tensorflow:multiprocessing can interact badly with TensorFlow, causing nondeterministic deadlocks. For high performance data pipelines tf.data is recommended.\n",
            "491/491 [==============================] - ETA: 0s - loss: 0.1449 - accuracy: 0.9726WARNING:tensorflow:multiprocessing can interact badly with TensorFlow, causing nondeterministic deadlocks. For high performance data pipelines tf.data is recommended.\n",
            "491/491 [==============================] - 480s 957ms/step - loss: 0.1449 - accuracy: 0.9726 - val_loss: 0.3732 - val_accuracy: 0.9190\n"
          ],
          "name": "stdout"
        }
      ]
    },
    {
      "cell_type": "code",
      "metadata": {
        "id": "DufVgsdmEigB"
      },
      "source": [
        "model.save_weights(filepath = '/content/drive/MyDrive/res_bird_model_weights.h5', overwrite = True)\n",
        "model.save(filepath = '/content/drive/MyDrive/res_bird_model.h5', overwrite = True)"
      ],
      "execution_count": 32,
      "outputs": []
    },
    {
      "cell_type": "code",
      "metadata": {
        "colab": {
          "base_uri": "https://localhost:8080/"
        },
        "id": "v9VRsbhz8HI7",
        "outputId": "00b725b2-dfd6-43b9-f5df-86b347a045bf"
      },
      "source": [
        "# Freeze core ResNet layers and train again \n",
        "for layer in model.layers[-6:]:\n",
        "   layer.trainable = False\n",
        "\n",
        "for layer in model.layers:\n",
        "    layer.trainable = True\n",
        "\n",
        "optimizer = Adam(lr=0.0005)\n",
        "\n",
        "model.compile(loss='categorical_crossentropy',\n",
        "              optimizer=optimizer, \n",
        "              metrics=['accuracy'])\n",
        "\n",
        "n_epoch = 5\n",
        "history2 = model.fit_generator(generator=train_generator, steps_per_epoch=STEP_SIZE_TRAIN,\n",
        "                              validation_data=valid_generator, validation_steps=STEP_SIZE_VALID,\n",
        "                              epochs=n_epoch,\n",
        "                              shuffle=True,\n",
        "                              verbose=1,\n",
        "                              callbacks=[reduce_lr, early_stop],\n",
        "                              use_multiprocessing=True,\n",
        "                              workers=16                             \n",
        "                              )"
      ],
      "execution_count": 34,
      "outputs": [
        {
          "output_type": "stream",
          "text": [
            "/usr/local/lib/python3.7/dist-packages/tensorflow/python/keras/engine/training.py:1844: UserWarning: `Model.fit_generator` is deprecated and will be removed in a future version. Please use `Model.fit`, which supports generators.\n",
            "  warnings.warn('`Model.fit_generator` is deprecated and '\n"
          ],
          "name": "stderr"
        },
        {
          "output_type": "stream",
          "text": [
            "Epoch 1/5\n",
            "WARNING:tensorflow:multiprocessing can interact badly with TensorFlow, causing nondeterministic deadlocks. For high performance data pipelines tf.data is recommended.\n",
            "491/491 [==============================] - ETA: 0s - loss: 1.2011 - accuracy: 0.7334WARNING:tensorflow:multiprocessing can interact badly with TensorFlow, causing nondeterministic deadlocks. For high performance data pipelines tf.data is recommended.\n",
            "491/491 [==============================] - 504s 993ms/step - loss: 1.2011 - accuracy: 0.7334 - val_loss: 1.7433 - val_accuracy: 0.6310\n",
            "Epoch 2/5\n",
            "WARNING:tensorflow:multiprocessing can interact badly with TensorFlow, causing nondeterministic deadlocks. For high performance data pipelines tf.data is recommended.\n",
            "491/491 [==============================] - ETA: 0s - loss: 0.9636 - accuracy: 0.7733WARNING:tensorflow:multiprocessing can interact badly with TensorFlow, causing nondeterministic deadlocks. For high performance data pipelines tf.data is recommended.\n",
            "491/491 [==============================] - 496s 988ms/step - loss: 0.9636 - accuracy: 0.7733 - val_loss: 1.3677 - val_accuracy: 0.7060\n",
            "Epoch 3/5\n",
            "WARNING:tensorflow:multiprocessing can interact badly with TensorFlow, causing nondeterministic deadlocks. For high performance data pipelines tf.data is recommended.\n",
            "491/491 [==============================] - ETA: 0s - loss: 0.8140 - accuracy: 0.8067WARNING:tensorflow:multiprocessing can interact badly with TensorFlow, causing nondeterministic deadlocks. For high performance data pipelines tf.data is recommended.\n",
            "491/491 [==============================] - 497s 991ms/step - loss: 0.8140 - accuracy: 0.8067 - val_loss: 1.4194 - val_accuracy: 0.6906\n",
            "Epoch 4/5\n",
            "WARNING:tensorflow:multiprocessing can interact badly with TensorFlow, causing nondeterministic deadlocks. For high performance data pipelines tf.data is recommended.\n",
            "491/491 [==============================] - ETA: 0s - loss: 0.6706 - accuracy: 0.8362WARNING:tensorflow:multiprocessing can interact badly with TensorFlow, causing nondeterministic deadlocks. For high performance data pipelines tf.data is recommended.\n",
            "491/491 [==============================] - 473s 940ms/step - loss: 0.6706 - accuracy: 0.8361 - val_loss: 1.7958 - val_accuracy: 0.6238\n",
            "\n",
            "Epoch 00004: ReduceLROnPlateau reducing learning rate to 5.0000002374872565e-05.\n",
            "Epoch 5/5\n",
            "WARNING:tensorflow:multiprocessing can interact badly with TensorFlow, causing nondeterministic deadlocks. For high performance data pipelines tf.data is recommended.\n",
            "491/491 [==============================] - ETA: 0s - loss: 0.4652 - accuracy: 0.8893WARNING:tensorflow:multiprocessing can interact badly with TensorFlow, causing nondeterministic deadlocks. For high performance data pipelines tf.data is recommended.\n",
            "491/491 [==============================] - 483s 962ms/step - loss: 0.4651 - accuracy: 0.8894 - val_loss: 0.4017 - val_accuracy: 0.9081\n"
          ],
          "name": "stdout"
        }
      ]
    },
    {
      "cell_type": "code",
      "metadata": {
        "id": "i8zT9D0dfNSw"
      },
      "source": [
        "history = {}\n",
        "history['loss'] = history1.history['loss'] + history2.history['loss']\n",
        "history['acc'] = history1.history['accuracy'] + history2.history['accuracy']\n",
        "history['val_loss'] = history1.history['val_loss'] + history2.history['val_loss']\n",
        "history['val_acc'] = history1.history['val_accuracy'] + history2.history['val_accuracy']\n",
        "history['lr'] = history1.history['lr'] + history2.history['lr']"
      ],
      "execution_count": 35,
      "outputs": []
    },
    {
      "cell_type": "code",
      "metadata": {
        "id": "hwWmT1XVfR7Y",
        "colab": {
          "base_uri": "https://localhost:8080/",
          "height": 336
        },
        "outputId": "e60775a3-2dc1-480d-aeb0-0c7ca46c2fff"
      },
      "source": [
        "import matplotlib.pyplot as plt\n",
        "def plot_training(history):\n",
        "    acc = history['acc']\n",
        "    val_acc = history['val_acc']\n",
        "    loss = history['loss']\n",
        "    val_loss = history['val_loss']\n",
        "    epochs = range(len(acc))\n",
        "\n",
        "    fig, axes = plt.subplots(1, 2, figsize=(15,5))\n",
        "    \n",
        "    axes[0].plot(epochs, acc, 'r-', label='Training Accuracy')\n",
        "    axes[0].plot(epochs, val_acc, 'b--', label='Validation Accuracy')\n",
        "    axes[0].set_title('Training and Validation Accuracy')\n",
        "    axes[0].legend(loc='best')\n",
        "\n",
        "    axes[1].plot(epochs, loss, 'r-', label='Training Loss')\n",
        "    axes[1].plot(epochs, val_loss, 'b--', label='Validation Loss')\n",
        "    axes[1].set_title('Training and Validation Loss')\n",
        "    axes[1].legend(loc='best')\n",
        "    \n",
        "    plt.show()\n",
        "    \n",
        "plot_training(history)"
      ],
      "execution_count": 38,
      "outputs": [
        {
          "output_type": "display_data",
          "data": {
            "image/png": "[encoded data removed]",
            "text/plain": [
              "<Figure size 1080x360 with 2 Axes>"
            ]
          },
          "metadata": {
            "tags": [],
            "needs_background": "light"
          }
        }
      ]
    },
    {
      "cell_type": "code",
      "metadata": {
        "id": "A8O1zYNAfV69",
        "colab": {
          "base_uri": "https://localhost:8080/"
        },
        "outputId": "85641bc6-b381-4613-91f3-88ff7fa06f23"
      },
      "source": [
        "score = model.evaluate_generator(valid_generator)\n",
        "print(\"Prediction accuracy on CV data =\", score[1])"
      ],
      "execution_count": 39,
      "outputs": [
        {
          "output_type": "stream",
          "text": [
            "/usr/local/lib/python3.7/dist-packages/tensorflow/python/keras/engine/training.py:1877: UserWarning: `Model.evaluate_generator` is deprecated and will be removed in a future version. Please use `Model.evaluate`, which supports generators.\n",
            "  warnings.warn('`Model.evaluate_generator` is deprecated and '\n"
          ],
          "name": "stderr"
        },
        {
          "output_type": "stream",
          "text": [
            "Prediction accuracy on CV data = 0.9025839567184448\n"
          ],
          "name": "stdout"
        }
      ]
    },
    {
      "cell_type": "code",
      "metadata": {
        "id": "oScntGIzpIcm"
      },
      "source": [
        "model.save_weights(filepath = '/content/drive/MyDrive/bird_model_weights.h5', overwrite = True)"
      ],
      "execution_count": 36,
      "outputs": []
    },
    {
      "cell_type": "code",
      "metadata": {
        "id": "lXjjHA-emlpz"
      },
      "source": [
        "model.save(filepath = '/content/drive/MyDrive/bird_model.h5', overwrite = True)"
      ],
      "execution_count": 37,
      "outputs": []
    },
    {
      "cell_type": "code",
      "metadata": {
        "id": "cd9lQqdXJbQa"
      },
      "source": [
        ""
      ],
      "execution_count": null,
      "outputs": []
    },
    {
      "cell_type": "code",
      "metadata": {
        "id": "8FCXI7z13wej"
      },
      "source": [
        ""
      ],
      "execution_count": null,
      "outputs": []
    }
  ]
}