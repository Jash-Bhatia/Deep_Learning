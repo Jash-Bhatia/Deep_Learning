{
  "nbformat": 4,
  "nbformat_minor": 0,
  "metadata": {
    "accelerator": "GPU",
    "colab": {
      "name": "J007_DL_Lab1_Flowers.ipynb",
      "private_outputs": true,
      "provenance": [],
      "collapsed_sections": [],
      "include_colab_link": true
    },
    "kernelspec": {
      "name": "python3",
      "display_name": "Python 3"
    },
    "language_info": {
      "name": "python",
      "version": "3.6.6",
      "mimetype": "text/x-python",
      "codemirror_mode": {
        "name": "ipython",
        "version": 3
      },
      "pygments_lexer": "ipython3",
      "nbconvert_exporter": "python",
      "file_extension": ".py"
    }
  },
  "cells": [
    {
      "cell_type": "markdown",
      "metadata": {
        "id": "view-in-github",
        "colab_type": "text"
      },
      "source": [
        "<a href=\"https://colab.research.google.com/github/Jash-Bhatia/Deep_Learning/blob/main/Lab1/J007_DL_Lab1_Flowers.ipynb\" target=\"_parent\"><img src=\"https://colab.research.google.com/assets/colab-badge.svg\" alt=\"Open In Colab\"/></a>"
      ]
    },
    {
      "cell_type": "markdown",
      "metadata": {
        "_uuid": "bca889c929920fd204e28dd8ba3bf747abfe4866",
        "id": "iBRB__CSO3i8"
      },
      "source": [
        "# Flower Recognition CNN Keras"
      ]
    },
    {
      "cell_type": "markdown",
      "metadata": {
        "_uuid": "892a9fe20cb70273b84d120b69e8d8cef65c7e80",
        "id": "T-M6cL_AO3jO"
      },
      "source": [
        "<a id=\"content1\"></a>\n",
        "## 1 ) Importing Various Modules."
      ]
    },
    {
      "cell_type": "code",
      "metadata": {
        "id": "z19bVm7o9zeu",
        "trusted": true,
        "_uuid": "743b574dc8902f9376b0293208139192ed5717d1"
      },
      "source": [
        "# Ignore  the warnings\n",
        "import warnings\n",
        "warnings.filterwarnings('always')\n",
        "warnings.filterwarnings('ignore')\n",
        "\n",
        "# data visualisation and manipulation\n",
        "import numpy as np\n",
        "import pandas as pd\n",
        "import matplotlib.pyplot as plt\n",
        "from matplotlib import style\n",
        "import seaborn as sns\n",
        " \n",
        "#configure\n",
        "# sets matplotlib to inline and displays graphs below the corressponding cell.\n",
        "%matplotlib inline  \n",
        "style.use('fivethirtyeight')\n",
        "sns.set(style='whitegrid',color_codes=True)\n",
        "\n",
        "#model selection\n",
        "from sklearn.model_selection import train_test_split\n",
        "from sklearn.model_selection import KFold\n",
        "from sklearn.metrics import accuracy_score,precision_score,recall_score,confusion_matrix,roc_curve,roc_auc_score\n",
        "from sklearn.model_selection import GridSearchCV\n",
        "from sklearn.preprocessing import LabelEncoder\n",
        "\n",
        "#preprocess.\n",
        "from keras.preprocessing.image import ImageDataGenerator\n",
        "\n",
        "#dl libraraies\n",
        "from keras import backend as K\n",
        "from keras.models import Sequential\n",
        "from keras.layers import Dense\n",
        "from keras.optimizers import Adam,SGD,Adagrad,Adadelta,RMSprop\n",
        "from keras.utils import to_categorical\n",
        "\n",
        "# specifically for cnn\n",
        "from keras.layers import Dropout, Flatten,Activation\n",
        "from keras.layers import Conv2D, MaxPooling2D, BatchNormalization\n",
        " \n",
        "import tensorflow as tf\n",
        "import random as rn\n",
        "\n",
        "# specifically for manipulating zipped images and getting numpy arrays of pixel values of images.\n",
        "import cv2                  \n",
        "import numpy as np  \n",
        "from tqdm import tqdm\n",
        "import os                   \n",
        "from random import shuffle  \n",
        "from zipfile import ZipFile\n",
        "from PIL import Image"
      ],
      "execution_count": null,
      "outputs": []
    },
    {
      "cell_type": "code",
      "metadata": {
        "id": "amY2Ux1NPeIk"
      },
      "source": [
        "!wget http://upscfever.com/datasets/flowers-new.zip -P drive/app\n",
        "import os\n",
        "os.chdir('drive/app')  #change dir\n",
        "!unzip -q flowers-new.zip  #unzip data in test/\n"
      ],
      "execution_count": null,
      "outputs": []
    },
    {
      "cell_type": "markdown",
      "metadata": {
        "_uuid": "c24f32b5ef905f9c4df2a020be4419a77c80237e",
        "id": "kdkEjoDiO3jT"
      },
      "source": [
        "<a id=\"content2\"></a>\n",
        "## 2 ) Preparing the Data"
      ]
    },
    {
      "cell_type": "markdown",
      "metadata": {
        "_uuid": "f8721fdb61bab5e515c8f5489876a97059a2b94f",
        "id": "zEcEjXFnO3jV"
      },
      "source": [
        "## 2.1) Making the functions to get the training and validation set from the Images"
      ]
    },
    {
      "cell_type": "code",
      "metadata": {
        "id": "abZS8dPk9ze1",
        "trusted": false,
        "_uuid": "54f440d5e3da322372601d59e6224a8fcd89c5f8"
      },
      "source": [
        "X=[]\n",
        "Z=[]\n",
        "IMG_SIZE=150\n",
        "FLOWER_DAISY_DIR='flowers/daisy'\n",
        "FLOWER_SUNFLOWER_DIR='flowers/sunflower'\n",
        "FLOWER_TULIP_DIR='flowers/tulip'\n",
        "FLOWER_DANDI_DIR='flowers/dandelion'\n",
        "FLOWER_ROSE_DIR='flowers/rose'"
      ],
      "execution_count": null,
      "outputs": []
    },
    {
      "cell_type": "code",
      "metadata": {
        "id": "2qPgwo1d9ze4",
        "trusted": false,
        "_uuid": "73a92819956d2358999ca2233854712849a746d0"
      },
      "source": [
        "def assign_label(img,flower_type):\n",
        "    return flower_type\n",
        "    "
      ],
      "execution_count": null,
      "outputs": []
    },
    {
      "cell_type": "code",
      "metadata": {
        "id": "vlY8PywM9ze7",
        "trusted": false,
        "_uuid": "6392aebe4fd42ff52460f249ca442626c0af69b7"
      },
      "source": [
        "def make_train_data(flower_type,DIR):\n",
        "    for img in tqdm(os.listdir(DIR)):\n",
        "        label=assign_label(img,flower_type)\n",
        "        path = os.path.join(DIR,img)\n",
        "        img = cv2.imread(path,cv2.IMREAD_COLOR)\n",
        "        img = cv2.resize(img, (IMG_SIZE,IMG_SIZE))\n",
        "        \n",
        "        X.append(np.array(img))\n",
        "        Z.append(str(label))\n",
        "        \n",
        "        \n",
        "        "
      ],
      "execution_count": null,
      "outputs": []
    },
    {
      "cell_type": "code",
      "metadata": {
        "id": "9hn_RjL29ze_",
        "trusted": false,
        "_uuid": "46034734b447b127ce033705f44a01e7806a8990"
      },
      "source": [
        "make_train_data('Daisy',FLOWER_DAISY_DIR)\n",
        "print(len(X))"
      ],
      "execution_count": null,
      "outputs": []
    },
    {
      "cell_type": "code",
      "metadata": {
        "id": "KgYj8x-H9zfL",
        "trusted": false,
        "_uuid": "fef985e030d09df0762031cd2ec4b009a1f7711a"
      },
      "source": [
        "make_train_data('Dandelion',FLOWER_DANDI_DIR)\n",
        "print(len(X))"
      ],
      "execution_count": null,
      "outputs": []
    },
    {
      "cell_type": "code",
      "metadata": {
        "id": "GkL2oDDrWz_a"
      },
      "source": [
        "make_train_data('Sunflower',FLOWER_SUNFLOWER_DIR)\n",
        "print(len(X))"
      ],
      "execution_count": null,
      "outputs": []
    },
    {
      "cell_type": "code",
      "metadata": {
        "id": "z7oL75D4W0I5"
      },
      "source": [
        "make_train_data('Tulip',FLOWER_TULIP_DIR)\n",
        "print(len(X))"
      ],
      "execution_count": null,
      "outputs": []
    },
    {
      "cell_type": "code",
      "metadata": {
        "id": "fO0QLYDWW0V1"
      },
      "source": [
        "make_train_data('Rose',FLOWER_ROSE_DIR)\n",
        "print(len(X))"
      ],
      "execution_count": null,
      "outputs": []
    },
    {
      "cell_type": "markdown",
      "metadata": {
        "_uuid": "30f46a96158710351f4ccb4e0103c71404f58e7d",
        "id": "Jnk2BdW4O3j8"
      },
      "source": [
        "## 2.2 ) Visualizing some Random Images"
      ]
    },
    {
      "cell_type": "code",
      "metadata": {
        "id": "gPolpADLYv9p",
        "trusted": false,
        "_uuid": "a27c478fcac8675aadd40f96fd144a805475b681"
      },
      "source": [
        "fig,ax=plt.subplots(5,2)\n",
        "fig.set_size_inches(15,15)\n",
        "for i in range(5):\n",
        "    for j in range (2):\n",
        "        l=rn.randint(0,len(Z))\n",
        "        ax[i,j].imshow(X[l])\n",
        "        ax[i,j].set_title('Flower: '+Z[l])\n",
        "        \n",
        "plt.tight_layout()\n",
        "        "
      ],
      "execution_count": null,
      "outputs": []
    },
    {
      "cell_type": "markdown",
      "metadata": {
        "_uuid": "77ec9e39e572f004918ea99a6866ee3a06c68324",
        "id": "ymHye50rO3kA"
      },
      "source": [
        "## 2.3 ) Label Encoding the Y array (i.e. Daisy->0, Rose->1 etc...) & then One Hot Encoding"
      ]
    },
    {
      "cell_type": "code",
      "metadata": {
        "id": "_Gug0CHU9zfe",
        "trusted": false,
        "_uuid": "46155da810657d35899fedf3f055a0cf3f04ec6e"
      },
      "source": [
        "le=LabelEncoder()\n",
        "Y=le.fit_transform(Z)\n",
        "Y=to_categorical(Y,5)\n",
        "X=np.array(X)\n",
        "X=X/255"
      ],
      "execution_count": null,
      "outputs": []
    },
    {
      "cell_type": "markdown",
      "metadata": {
        "_uuid": "901fb55ff34f9e6cc2f35538e7814d53cf31a086",
        "id": "abw3hafRO3kE"
      },
      "source": [
        "## 2.4 ) Splitting into Training and Validation Sets"
      ]
    },
    {
      "cell_type": "code",
      "metadata": {
        "id": "4xogXfvm9zfg",
        "trusted": false,
        "_uuid": "75d23f1232fc974cb4a3dc1b966864bea390e184"
      },
      "source": [
        "x_train,x_test,y_train,y_test=train_test_split(X,Y,test_size=0.25,random_state=42)\n",
        "\n",
        "y_test.shape"
      ],
      "execution_count": null,
      "outputs": []
    },
    {
      "cell_type": "markdown",
      "metadata": {
        "_uuid": "3af24fc59f0a9dce04862dff2e43f9d20fa996d3",
        "id": "mYfYuzTnO3kK"
      },
      "source": [
        "## 2.5 ) Setting the Random Seeds"
      ]
    },
    {
      "cell_type": "code",
      "metadata": {
        "id": "S_nM3vLf9zfj",
        "trusted": false,
        "_uuid": "8e7d1b9c980f79d1955b6686963854e8b7151d3c"
      },
      "source": [
        "np.random.seed(42)\n",
        "rn.seed(42)\n"
      ],
      "execution_count": null,
      "outputs": []
    },
    {
      "cell_type": "markdown",
      "metadata": {
        "_uuid": "f543b578e003e334416835db76b61c21a3391ba1",
        "id": "Z1Ywr4ExO3kc"
      },
      "source": [
        "<a id=\"content3\"></a>\n",
        "## 3 ) Modelling"
      ]
    },
    {
      "cell_type": "markdown",
      "metadata": {
        "_uuid": "7993c26fee12209d0fe31f0f034c7328b81571fc",
        "id": "NfnRbEWTO3kd"
      },
      "source": [
        "## 3.1 ) Building the ConvNet Model"
      ]
    },
    {
      "cell_type": "code",
      "metadata": {
        "id": "2a2cTLEt9zfm",
        "trusted": false,
        "_uuid": "01ac04f51fd20947335ec6aced2fd9828debe945"
      },
      "source": [
        "# # modelling starts using a CNN.\n",
        "\n",
        "model = Sequential()\n",
        "model.add(Conv2D(filters = 32, kernel_size = (5,5),padding = 'Same',activation ='relu', input_shape = (150,150,3)))\n",
        "model.add(MaxPooling2D(pool_size=(2,2)))\n",
        "\n",
        "\n",
        "model.add(Conv2D(filters = 64, kernel_size = (3,3),padding = 'Same',activation ='relu'))\n",
        "model.add(MaxPooling2D(pool_size=(2,2), strides=(2,2)))\n",
        " \n",
        "\n",
        "model.add(Conv2D(filters =96, kernel_size = (3,3),padding = 'Same',activation ='relu'))\n",
        "model.add(MaxPooling2D(pool_size=(2,2), strides=(2,2)))\n",
        "\n",
        "model.add(Conv2D(filters = 96, kernel_size = (3,3),padding = 'Same',activation ='relu'))\n",
        "model.add(MaxPooling2D(pool_size=(2,2), strides=(2,2)))\n",
        "\n",
        "model.add(Flatten())\n",
        "model.add(Dense(512))\n",
        "#model.add(Activation('relu'))\n",
        "#model.add(Dropout(0.25))\n",
        "#model.add(Dense(256, activation=\"relu\"))\n",
        "#model.add(Dense(64, \"relu\"))\n",
        "\n",
        "model.add(Dense(5, activation = \"softmax\"))"
      ],
      "execution_count": null,
      "outputs": []
    },
    {
      "cell_type": "code",
      "metadata": {
        "id": "WRDL6i6VHhMX"
      },
      "source": [
        "model.summary()"
      ],
      "execution_count": null,
      "outputs": []
    },
    {
      "cell_type": "markdown",
      "metadata": {
        "_uuid": "2e75515599edc31ca8c8e4299ea62d259fd6c788",
        "id": "RbfP8_q5O3kg"
      },
      "source": [
        "## 3.2 ) Using a LR Annealer"
      ]
    },
    {
      "cell_type": "code",
      "metadata": {
        "id": "ubXKjfti9zfq",
        "trusted": false,
        "_uuid": "aa6c41f404a017054eb3d309dabdf48bc8822cef"
      },
      "source": [
        "batch_size=64\n",
        "epochs=50\n",
        "\n",
        "from keras.callbacks import ReduceLROnPlateau\n",
        "red_lr= ReduceLROnPlateau(monitor='val_acc',patience=3,verbose=1,factor=0.1)"
      ],
      "execution_count": null,
      "outputs": []
    },
    {
      "cell_type": "markdown",
      "metadata": {
        "_uuid": "e266b7ed910717ee2d68391b59e4bcde6f930e5c",
        "id": "y37W_R3oO3kj"
      },
      "source": [
        "## 3.3 ) Data Augmentation to prevent Overfitting"
      ]
    },
    {
      "cell_type": "code",
      "metadata": {
        "id": "F5YP1q3wc6Ck",
        "trusted": false,
        "_uuid": "358f41a7c04bd65219782b439c9f073c1668af7b"
      },
      "source": [
        "datagen = ImageDataGenerator(\n",
        "        featurewise_center=False,  # set input mean to 0 over the dataset\n",
        "        samplewise_center=False,  # set each sample mean to 0\n",
        "        featurewise_std_normalization=False,  # divide inputs by std of the dataset\n",
        "        samplewise_std_normalization=False,  # divide each input by its std\n",
        "        zca_whitening=False,  # apply ZCA whitening\n",
        "        rotation_range=10,  # randomly rotate images in the range (degrees, 0 to 180)\n",
        "        zoom_range = 0.1, # Randomly zoom image \n",
        "        width_shift_range=0.2,  # randomly shift images horizontally (fraction of total width)\n",
        "        height_shift_range=0.2,  # randomly shift images vertically (fraction of total height)\n",
        "        horizontal_flip=True,  # randomly flip images\n",
        "        vertical_flip=False)  # randomly flip images\n",
        "\n",
        "\n",
        "datagen.fit(x_train)"
      ],
      "execution_count": null,
      "outputs": []
    },
    {
      "cell_type": "markdown",
      "metadata": {
        "_uuid": "6f8e6bf822742f85e1733a7de806d738f7453a34",
        "id": "AzhskJ4xO3kp"
      },
      "source": [
        "## 3.4 ) Compiling the Keras Model & Summary"
      ]
    },
    {
      "cell_type": "code",
      "metadata": {
        "id": "d3TzLswd9zft",
        "trusted": false,
        "_uuid": "172eb8e295a26fb76f338814798c73568456fd7f"
      },
      "source": [
        "model.compile(optimizer=Adam(lr=0.001),loss='categorical_crossentropy',metrics=['accuracy'])"
      ],
      "execution_count": null,
      "outputs": []
    },
    {
      "cell_type": "code",
      "metadata": {
        "id": "-BO2A3xD9zfw",
        "trusted": false,
        "_uuid": "fca74452122226685c34009fa718e0b62d3bdc78"
      },
      "source": [
        "model.summary()"
      ],
      "execution_count": null,
      "outputs": []
    },
    {
      "cell_type": "markdown",
      "metadata": {
        "_uuid": "5fff9cd1c60d202293ec992d31548eb63604d9ba",
        "id": "WRenEVagO3ku"
      },
      "source": [
        "## 3.5 ) Fitting on the Training set and making predcitons on the Validation set"
      ]
    },
    {
      "cell_type": "code",
      "metadata": {
        "id": "YNVSuB6P9zf0",
        "trusted": false,
        "_uuid": "2736cb961572eaaa843417199d543b7016ed608a"
      },
      "source": [
        "History = model.fit_generator(datagen.flow(x_train,y_train, batch_size=batch_size),\n",
        "                              epochs = epochs, validation_data = (x_test,y_test), \n",
        "                              verbose = 1, steps_per_epoch=x_train.shape[0] // batch_size)\n",
        "# model.fit(x_train,y_train,epochs=epochs,batch_size=batch_size,validation_data = (x_test,y_test))"
      ],
      "execution_count": null,
      "outputs": []
    },
    {
      "cell_type": "markdown",
      "metadata": {
        "_uuid": "6e0f2de580cd5eadacda79a06250b3b188987004",
        "id": "JfPKd_mPO3kz"
      },
      "source": [
        "<a id=\"content4\"></a>\n",
        "## 4 ) Evaluating the Model Performance"
      ]
    },
    {
      "cell_type": "code",
      "metadata": {
        "id": "5zyO2Sdj9zf2",
        "trusted": false,
        "_uuid": "0fddff49b7df1420982bd3a05a63dd38b721e743"
      },
      "source": [
        "plt.plot(History.history['loss'])\n",
        "plt.plot(History.history['val_loss'])\n",
        "plt.title('Model Loss')\n",
        "plt.ylabel('Loss')\n",
        "plt.xlabel('Epochs')\n",
        "plt.legend(['train', 'test'])\n",
        "plt.show()"
      ],
      "execution_count": null,
      "outputs": []
    },
    {
      "cell_type": "code",
      "metadata": {
        "id": "N-JDEQGkuQgp",
        "trusted": false,
        "_uuid": "22dc277aaaeb3f016bfaa19c1abd612442af49e8"
      },
      "source": [
        "plt.plot(History.history['accuracy'])\n",
        "plt.plot(History.history['val_accuracy'])\n",
        "plt.title('Model Accuracy')\n",
        "plt.ylabel('Accuracy')\n",
        "plt.xlabel('Epochs')\n",
        "plt.legend(['train', 'test'])\n",
        "plt.show()\n"
      ],
      "execution_count": null,
      "outputs": []
    },
    {
      "cell_type": "code",
      "metadata": {
        "id": "THuOxONcoO1L"
      },
      "source": [
        "predictions = model.predict(x_test)\n",
        "predictions = np.argmax(predictions,axis = 1)"
      ],
      "execution_count": null,
      "outputs": []
    },
    {
      "cell_type": "code",
      "metadata": {
        "id": "VQBBthZBoSwz"
      },
      "source": [
        "y_test_ = to_categorical(y_test)"
      ],
      "execution_count": null,
      "outputs": []
    },
    {
      "cell_type": "code",
      "metadata": {
        "id": "7UR6j8aRoV4j"
      },
      "source": [
        "predictions = to_categorical(predictions,5)"
      ],
      "execution_count": null,
      "outputs": []
    },
    {
      "cell_type": "code",
      "metadata": {
        "id": "Mx8pGIcVoY-H"
      },
      "source": [
        "a = np.argmax(predictions, axis=1 )\n",
        "b = np.argmax(y_test ,axis=1)\n",
        "cm = confusion_matrix(a,b)\n",
        "cm"
      ],
      "execution_count": null,
      "outputs": []
    },
    {
      "cell_type": "code",
      "metadata": {
        "id": "W5rZuU81og7m"
      },
      "source": [
        "accuracy = sum(cm[i][i] for i in range(5)) / y_test.shape[0]\n",
        "print(\"accuracy = \" + str(accuracy))"
      ],
      "execution_count": null,
      "outputs": []
    },
    {
      "cell_type": "code",
      "metadata": {
        "id": "A9JS_oQvomtV"
      },
      "source": [
        "from sklearn.metrics import precision_score, recall_score\n",
        "print('precision score - ',precision_score(y_test, predictions, average=\"macro\"))\n",
        "print('recall score - ', recall_score(y_test, predictions, average=\"macro\"))"
      ],
      "execution_count": null,
      "outputs": []
    },
    {
      "cell_type": "markdown",
      "metadata": {
        "id": "t2MZ3z7ToqiH"
      },
      "source": [
        "Save and Load Model"
      ]
    },
    {
      "cell_type": "code",
      "metadata": {
        "id": "X_F2U2DVowcU"
      },
      "source": [
        "model.save('final_flowers_model2')"
      ],
      "execution_count": null,
      "outputs": []
    },
    {
      "cell_type": "code",
      "metadata": {
        "id": "CmnoYz79oypi"
      },
      "source": [
        "from tensorflow import keras\n",
        "model = keras.models.load_model('final_flowers_model2')"
      ],
      "execution_count": null,
      "outputs": []
    },
    {
      "cell_type": "markdown",
      "metadata": {
        "id": "pLUC-19mEFVC"
      },
      "source": [
        "#Direct pretrained model"
      ]
    },
    {
      "cell_type": "code",
      "metadata": {
        "id": "MovrdKbtE6TA"
      },
      "source": [
        "from keras.layers import Input"
      ],
      "execution_count": null,
      "outputs": []
    },
    {
      "cell_type": "code",
      "metadata": {
        "id": "O_4xsxa_EA4i"
      },
      "source": [
        "pretrained = tf.keras.applications.NASNetMobile(\n",
        "    input_shape=None,\n",
        "    include_top=True,\n",
        "    weights=\"imagenet\",\n",
        "    input_tensor=Input(shape=(150,150,3)),\n",
        "    pooling=None,\n",
        "    classes=1000,\n",
        ")"
      ],
      "execution_count": null,
      "outputs": []
    },
    {
      "cell_type": "code",
      "metadata": {
        "id": "b1o9KJOvFANp"
      },
      "source": [
        "pretrained.summary()"
      ],
      "execution_count": null,
      "outputs": []
    },
    {
      "cell_type": "code",
      "metadata": {
        "id": "8F74TbnSFOGi"
      },
      "source": [
        "from keras.preprocessing import image\n",
        "from keras.applications.nasnet import preprocess_input, decode_predictions"
      ],
      "execution_count": null,
      "outputs": []
    },
    {
      "cell_type": "code",
      "metadata": {
        "id": "58NkNxHgFvro"
      },
      "source": [
        "xtrain_nasnet = preprocess_input(x_train)"
      ],
      "execution_count": null,
      "outputs": []
    },
    {
      "cell_type": "code",
      "metadata": {
        "id": "PGT7B24LF9x6"
      },
      "source": [
        "xtest_nasnet = preprocess_input(x_test)"
      ],
      "execution_count": null,
      "outputs": []
    },
    {
      "cell_type": "code",
      "metadata": {
        "id": "2mSntFtZGA5D"
      },
      "source": [
        "ypred = pretrained.predict(xtrain_nasnet)"
      ],
      "execution_count": null,
      "outputs": []
    },
    {
      "cell_type": "code",
      "metadata": {
        "id": "dLGwJRe1GKWq"
      },
      "source": [
        "ytestpred = pretrained.predict(xtest_nasnet)"
      ],
      "execution_count": null,
      "outputs": []
    },
    {
      "cell_type": "code",
      "metadata": {
        "id": "Etr_xTOFGS32"
      },
      "source": [
        "ypreddecode = decode_predictions(ypred, top=1)"
      ],
      "execution_count": null,
      "outputs": []
    },
    {
      "cell_type": "code",
      "metadata": {
        "id": "KYjral9IGnze"
      },
      "source": [
        "ypreddecode[0]"
      ],
      "execution_count": null,
      "outputs": []
    },
    {
      "cell_type": "code",
      "metadata": {
        "id": "opZVgx5PGpZK"
      },
      "source": [
        "ypreddeclabels = []\n",
        "for i in ypreddecode:\n",
        "    for (ID, label,prob) in i:\n",
        "        ypreddeclabels.append(str(label))"
      ],
      "execution_count": null,
      "outputs": []
    },
    {
      "cell_type": "markdown",
      "metadata": {
        "id": "fha04jCtKJwR"
      },
      "source": [
        "#Labels of pretrained model on data"
      ]
    },
    {
      "cell_type": "code",
      "metadata": {
        "id": "CzWrxcmoJ9LS"
      },
      "source": [
        "ypreddeclabels"
      ],
      "execution_count": null,
      "outputs": []
    },
    {
      "cell_type": "code",
      "metadata": {
        "id": "jt8JJtqWHvR7"
      },
      "source": [
        ""
      ],
      "execution_count": null,
      "outputs": []
    }
  ]
}