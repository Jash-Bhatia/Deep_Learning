{
  "nbformat": 4,
  "nbformat_minor": 0,
  "metadata": {
    "colab": {
      "name": "J007_DL_Lab3_ErrorAnalysis&DataMismatch.ipynb",
      "private_outputs": true,
      "provenance": [],
      "collapsed_sections": [
        "46R5KzH39WN2",
        "ncYBMddc-Qxq",
        "HMPpxiCiQ-p2"
      ],
      "include_colab_link": true
    },
    "kernelspec": {
      "name": "python3",
      "display_name": "Python 3"
    },
    "accelerator": "GPU"
  },
  "cells": [
    {
      "cell_type": "markdown",
      "metadata": {
        "id": "view-in-github",
        "colab_type": "text"
      },
      "source": [
        "<a href=\"https://colab.research.google.com/github/Jash-Bhatia/Deep_Learning/blob/main/J007_DL_Lab3_ErrorAnalysis%26DataMismatch.ipynb\" target=\"_parent\"><img src=\"https://colab.research.google.com/assets/colab-badge.svg\" alt=\"Open In Colab\"/></a>"
      ]
    },
    {
      "cell_type": "markdown",
      "metadata": {
        "id": "OqlsgJV73Ryu"
      },
      "source": [
        "#**Experiment 3**"
      ]
    },
    {
      "cell_type": "markdown",
      "metadata": {
        "id": "2JuMds3dvy8Q"
      },
      "source": [
        "##Aim: Error Analysis & Data Mismatch"
      ]
    },
    {
      "cell_type": "code",
      "metadata": {
        "id": "wCtjpA-x0QKL"
      },
      "source": [
        "import pandas as pd\n",
        "import numpy as np\n",
        "import matplotlib.pyplot as plt\n",
        "from __future__ import print_function\n",
        "import keras\n",
        "from keras.datasets import cifar10\n",
        "from keras import backend as K\n",
        "\n",
        "from keras import models\n",
        "from keras.layers import Dense, Dropout\n",
        "from keras.models import Sequential\n",
        "from keras.layers import Activation, Flatten, Conv2D, MaxPooling2D\n",
        "from keras.utils.vis_utils import model_to_dot\n",
        "from IPython.display import SVG\n",
        "from keras.preprocessing.image import ImageDataGenerator\n",
        "from keras import layers\n",
        "\n",
        "from keras.callbacks import ReduceLROnPlateau\n",
        "from keras.optimizers import Adam\n",
        "from keras.callbacks import ModelCheckpoint, EarlyStopping\n",
        "\n",
        "import seaborn as sns"
      ],
      "execution_count": null,
      "outputs": []
    },
    {
      "cell_type": "code",
      "metadata": {
        "id": "g0vSO5PkzqTv"
      },
      "source": [
        "#Input image dimensions.\n",
        "img_rows, img_cols = 32, 32\n",
        "num_classes = 2\n",
        "#The data is shuffled and split between train and test sets.\n",
        "(x_train, y_train), (x_test, y_test) = cifar10.load_data()\n",
        "\n",
        "#Only look at cats [=3] & dogs [=5].\n",
        "train_picks = np.ravel(np.logical_or(y_train == 3, y_train == 5))  \n",
        "y_train = np.array(y_train[train_picks] == 5, dtype = int)\n",
        "x_train = x_train[train_picks]\n",
        "\n",
        "if K.image_data_format() == 'channels_first':\n",
        "    x_train = x_train.reshape(x_train.shape[0], 3, img_rows, img_cols)\n",
        "else:\n",
        "    x_train = x_train.reshape(x_train.shape[0], img_rows, img_cols, 3)\n",
        "    \n",
        "x_train = x_train.astype('float32')\n",
        "x_train /= 255\n",
        "print('x_train shape:', x_train.shape)\n",
        "print(x_train.shape[0], 'train samples')\n",
        "\n",
        "#Convert the class vectors to binary class matrices.\n",
        "y_train = keras.utils.to_categorical(np.ravel(y_train), num_classes)\n",
        "print('y_train shape:', y_train.shape)"
      ],
      "execution_count": null,
      "outputs": []
    },
    {
      "cell_type": "markdown",
      "metadata": {
        "id": "u1F4MPS50fln"
      },
      "source": [
        "[The Data Loading Code is taken from this reference file](https://colab.research.google.com/drive/1v8jsuS8tg_uktV1FW0Rz3Ho85QcVaZ_c#scrollTo=F8jwTf2Pey5D)"
      ]
    },
    {
      "cell_type": "code",
      "metadata": {
        "id": "nbxD0z500_hr"
      },
      "source": [
        "#Look at the first 9 images from the dataset.\n",
        "images = range(0,9)\n",
        "for i in images:\n",
        "    plt.subplot(330 + 1 + i)\n",
        "    plt.imshow(x_train[i], cmap = plt.get_cmap('gray'))\n",
        "    \n",
        "plt.show()"
      ],
      "execution_count": null,
      "outputs": []
    },
    {
      "cell_type": "code",
      "metadata": {
        "id": "ug7mrEyd1pK0"
      },
      "source": [
        "#Image of Dog\n",
        "plt.imshow(x_train[7000], cmap = plt.get_cmap('gray'))\n",
        "plt.show()"
      ],
      "execution_count": null,
      "outputs": []
    },
    {
      "cell_type": "code",
      "metadata": {
        "id": "T0ksui182vWQ"
      },
      "source": [
        "#It is a dog image.\n",
        "y_train[7000]"
      ],
      "execution_count": null,
      "outputs": []
    },
    {
      "cell_type": "code",
      "metadata": {
        "id": "w-z_MXkFtiyr"
      },
      "source": [
        "'''\n",
        "model = Sequential()\n",
        "#We need to use a Conv2D layer at the start of the neural network.\n",
        "#The syntax is Conv2D(1, (image_width,image_height), padding = \"valid\", activation = \"relu\", input_shape = X_train.shape[1:])\n",
        "#Then we add a flatten layer.\n",
        "model.add(Conv2D(1024, (32, 32), padding = \"valid\", activation = \"relu\", input_shape = x_train.shape[1:])) \n",
        "model.add(Dropout(0.1))\n",
        "\n",
        "\n",
        "model.add(Flatten())\n",
        "#then we continue with the neural network.\n",
        "model.add(layers.Dense(512, activation = \"relu\"))\n",
        "model.add(layers.Dropout(0.1))\n",
        "\n",
        "\n",
        "model.add(layers.Dense(256, activation = \"relu\"))\n",
        "model.add(layers.Dropout(0.1))\n",
        "\n",
        "model.add(layers.Dense(128, activation = \"relu\"))\n",
        "model.add(layers.Dropout(0.1))\n",
        "\n",
        "model.add(layers.Dense(2, activation = \"sigmoid\"))\n",
        "model.summary()\n",
        "'''"
      ],
      "execution_count": null,
      "outputs": []
    },
    {
      "cell_type": "markdown",
      "metadata": {
        "id": "DWkZziTtABmG"
      },
      "source": [
        "##Loading Dev & Test Set"
      ]
    },
    {
      "cell_type": "code",
      "metadata": {
        "id": "_yKWQEbmI4eW"
      },
      "source": [
        "#code part 1 -Obtaining the Dataset\n",
        "from bs4 import BeautifulSoup\n",
        "import numpy as np\n",
        "import requests\n",
        "import cv2\n",
        "import PIL.Image\n",
        "import urllib\n",
        "\n",
        "ie_page = requests.get(\"http://www.image-net.org/api/text/imagenet.synset.geturls?wnid=n02123045\")# Cats synset\n",
        "print(ie_page.content)\n",
        "ie_soup = BeautifulSoup(ie_page.content, 'html.parser')#puts the content of the website into the soup variable, each url on a different line\n",
        "ae_page = requests.get(\"http://www.image-net.org/api/text/imagenet.synset.geturls?wnid=n02084071\")# Dogs synset\n",
        "print(ae_page.content)\n",
        "ae_soup = BeautifulSoup(ae_page.content, 'html.parser')#puts the content of the website into the soup variable, each url on a different line"
      ],
      "execution_count": null,
      "outputs": []
    },
    {
      "cell_type": "code",
      "metadata": {
        "id": "oyNOvIyWv1My"
      },
      "source": [
        "ae_page.content"
      ],
      "execution_count": null,
      "outputs": []
    },
    {
      "cell_type": "code",
      "metadata": {
        "id": "DLt4bhhZRAFc"
      },
      "source": [
        "#code part 2- Using Beautiful Soup to get the correct Outcome\n",
        "\n",
        "ie_str_soup=str(ie_soup)#convert soup to string so it can be split\n",
        "type(ie_str_soup)\n",
        "ie_split_urls=ie_str_soup.split('\\r\\n')#split so each url is a different position on a list\n",
        "print(len(ie_split_urls))#print the length of the list so you know how many urls you have\n",
        "\n",
        "ae_str_soup=str(ae_soup)#convert soup to string so it can be split\n",
        "type(ae_str_soup)\n",
        "ae_split_urls=ae_str_soup.split('\\r\\n')#split so each url is a different position on a list\n",
        "print(len(ae_split_urls))  #print the length of the list so you know how many urls you have"
      ],
      "execution_count": null,
      "outputs": []
    },
    {
      "cell_type": "code",
      "metadata": {
        "id": "wRY3YR4VRiHa"
      },
      "source": [
        "#Creating a dataframe \n",
        "!mkdir /content/catdog_dev/ \n",
        "!mkdir /content/catdog_test/ "
      ],
      "execution_count": null,
      "outputs": []
    },
    {
      "cell_type": "code",
      "metadata": {
        "id": "HDWCMMnJR1GY"
      },
      "source": [
        "#Defining function to convert URL to images \n",
        "img_rows, img_cols = 32, 32 #Number of rows and columns to convert the images \n",
        "input_shape = (img_rows, img_cols, 3) #Format to store the images (rows, columns,channels) called channels list\n",
        "\n",
        "def url_to_image(url):\n",
        "\t#Download the image, convert it to a NumPy array, and then read it into OpenCV format.\n",
        "\tresp = urllib.request.urlopen(url)\n",
        "\timage = np.asarray(bytearray(resp.read()), dtype = \"uint8\")\n",
        "\timage = cv2.imdecode(image, cv2.IMREAD_COLOR)\n",
        " \n",
        "\treturn image"
      ],
      "execution_count": null,
      "outputs": []
    },
    {
      "cell_type": "code",
      "metadata": {
        "id": "U1K8cWTUR67l"
      },
      "source": [
        "#Storing Train data:\n",
        "n_of_training_images = 9 #The number of development images to use\n",
        "\n",
        "counter = 0\n",
        "for progress in range(10*n_of_training_images): #Store all 200 Indian Elephant images on a directory.\n",
        "    if (counter == n_of_training_images):\n",
        "      break\n",
        "    if (progress%10 == 0):\n",
        "        print(progress)\n",
        "    if not ie_split_urls[progress] == None:\n",
        "      try:\n",
        "        I = url_to_image(ie_split_urls[progress])\n",
        "        if (len(I.shape)) == 3: #Check if the image has width, length and channels.\n",
        "          save_path = '/content/catdog_dev/ie.' + str(progress) + '.jpg' #Create a name of each image.\n",
        "          cv2.imwrite(save_path, I)\n",
        "          counter = counter + 1\n",
        "          print(\"Counter Count:\", counter)\n",
        "      except:\n",
        "        None\n",
        "print(\"All the dev set cats images stored on the directory.\")\n",
        "print(\"Total Counter:\\n\", counter)\n",
        "\n",
        "counter = 0\n",
        "for progress in range(10*n_of_training_images): #Store all 200 African Elephant images on a directory.\n",
        "    if (counter == n_of_training_images):\n",
        "      break \n",
        "    if (progress%10 == 0):\n",
        "        print(progress)\n",
        "    if not ae_split_urls[progress] == None:\n",
        "      try:\n",
        "        I = url_to_image(ae_split_urls[progress])\n",
        "        if (len(I.shape)) == 3: #Check if the image has width, length and channels.\n",
        "          save_path = '/content/catdog_dev/ae.'+str(progress)+'.jpg' #Create a name of each image.\n",
        "          cv2.imwrite(save_path, I)\n",
        "          counter = counter + 1\n",
        "          print(\"Counter Count:\", counter)\n",
        "      except:\n",
        "        None\n",
        "print(\"All the dev set dogs images stored on the directory.\")\n",
        "print(\"Total Counter:\", counter)"
      ],
      "execution_count": null,
      "outputs": []
    },
    {
      "cell_type": "code",
      "metadata": {
        "id": "vkf-YbbkUm-X"
      },
      "source": [
        "#Storing Test data:\n",
        "n_of_testing_images = 9 #The number of development images to use\n",
        "\n",
        "counter = 0\n",
        "for progress in range(10*n_of_testing_images): #Store all the 50 Indian Elephant test images on a directory.\n",
        "    if (counter >= n_of_testing_images):\n",
        "      break\n",
        "    if (progress%10 == 0):\n",
        "        print(progress)\n",
        "    if not ie_split_urls[progress] == None:\n",
        "      try:\n",
        "        I = url_to_image(ie_split_urls[n_of_training_images+progress]) #Obtain the images that are different from the ones used for training.\n",
        "        if (len(I.shape)) == 3: #Check if the image has width, length and channels.\n",
        "          save_path = '/content/catdog_test/ie.' + str(progress) + '.jpg' #Create a name of each image.\n",
        "          cv2.imwrite(save_path, I)\n",
        "          counter = counter + 1\n",
        "          print(\"Counter Count:\", counter)\n",
        "      except:\n",
        "        None\n",
        "print(\"All the test set cats images stored on the directory.\")\n",
        "print(\"Total Count:\\n\", counter)\n",
        "\n",
        "counter = 0\n",
        "for progress in range(10*n_of_testing_images): #Store all 50 African Elephant test images on a directory.\n",
        "    if (counter >= n_of_testing_images):\n",
        "      break\n",
        "    if (progress%10 == 0):\n",
        "        print(progress)\n",
        "    if not ae_split_urls[progress] == None:\n",
        "      try:\n",
        "        I = url_to_image(ae_split_urls[n_of_training_images+progress]) #Obtain the images that are different from the ones used for training.\n",
        "        if (len(I.shape)) == 3: #Check if the image has width, length and channels.\n",
        "          save_path = '/content/catdog_test/ae.'+str(progress)+'.jpg' #Create a name of each image.\n",
        "          cv2.imwrite(save_path, I)\n",
        "          counter = counter + 1\n",
        "          print(\"Counter Count:\", counter)\n",
        "      except:\n",
        "        None\n",
        "print(\"All the test set dogs images stored on the directory.\")\n",
        "print(\"Total Count:\", counter)"
      ],
      "execution_count": null,
      "outputs": []
    },
    {
      "cell_type": "markdown",
      "metadata": {
        "id": "Yy4gvz0UktHZ"
      },
      "source": [
        "Save the Train images to a folder."
      ]
    },
    {
      "cell_type": "code",
      "metadata": {
        "id": "q_xEzEEsG90r"
      },
      "source": [
        "#Path to Train folder.\n",
        "import os\n",
        "original_train = '/content/catdog_dev/'\n",
        " \n",
        "filenames = os.listdir(original_train)\n",
        "categories = []\n",
        "for filename in filenames:\n",
        "  category = filename.split('.')[0]\n",
        "  if category == 'ie':\n",
        "    categories.append('0')\n",
        "  else:\n",
        "    categories.append('1')\n",
        "\n",
        "#Create a dataframe for development.\n",
        "import pandas as pd\n",
        "data = pd.DataFrame({'filename':filenames, 'label':categories})\n",
        "data.to_csv(\"original_catdog_dev.csv\", index = False)"
      ],
      "execution_count": null,
      "outputs": []
    },
    {
      "cell_type": "code",
      "metadata": {
        "id": "unvMm6T-nJjA"
      },
      "source": [
        "data"
      ],
      "execution_count": null,
      "outputs": []
    },
    {
      "cell_type": "markdown",
      "metadata": {
        "id": "qT-mfohJuUDm"
      },
      "source": [
        "Save the Test images to a folder."
      ]
    },
    {
      "cell_type": "code",
      "metadata": {
        "id": "5ErOV_4VuWUq"
      },
      "source": [
        "#Path to Test folder\n",
        "import os\n",
        "original_test = '/content/catdog_test/'\n",
        " \n",
        "filenames = os.listdir(original_test)\n",
        "categories = []\n",
        "for filename in filenames:\n",
        "  category = filename.split('.')[0]\n",
        "  if category == 'ie':\n",
        "    categories.append(0)\n",
        "  else:\n",
        "    categories.append(1)\n",
        "\n",
        "#Create a dataframe for development.\n",
        "data_test = pd.DataFrame({'filename':filenames, 'label':categories})\n",
        "data_test.to_csv(\"original_catdog_test.csv\", index = False)"
      ],
      "execution_count": null,
      "outputs": []
    },
    {
      "cell_type": "code",
      "metadata": {
        "id": "qQwdD-4FxSx0"
      },
      "source": [
        "data_test"
      ],
      "execution_count": null,
      "outputs": []
    },
    {
      "cell_type": "markdown",
      "metadata": {
        "id": "o-T-IEGhqIGV"
      },
      "source": [
        "##Model Building"
      ]
    },
    {
      "cell_type": "code",
      "metadata": {
        "id": "D46Rt0W98Oe6"
      },
      "source": [
        "model = Sequential()\n",
        "model.add(Conv2D(filters = 32, kernel_size = (5,5), padding = 'valid', activation = 'relu', input_shape = x_train.shape[1:]))\n",
        "model.add(MaxPooling2D(pool_size = (2,2)))\n",
        "model.add(Dropout(0.20))\n",
        "\n",
        "\n",
        "model.add(Conv2D(filters = 64, kernel_size = (3,3), padding = 'valid', activation = 'relu'))\n",
        "model.add(MaxPooling2D(pool_size = (2,2), strides = (2,2)))\n",
        "model.add(Dropout(0.15))\n",
        "\n",
        "\n",
        "model.add(Conv2D(filters = 512, kernel_size = (3,3), padding = 'valid', activation = 'relu'))\n",
        "model.add(MaxPooling2D(pool_size = (2,2), strides = (2,2)))\n",
        "model.add(Dropout(0.10))\n",
        "\n",
        "model.add(Flatten())\n",
        "model.add(Dense(1024))\n",
        "model.add(Activation('relu'))\n",
        "model.add(Dense(1, activation = \"sigmoid\"))\n",
        "model.summary()"
      ],
      "execution_count": null,
      "outputs": []
    },
    {
      "cell_type": "code",
      "metadata": {
        "id": "-BEhOLeCs0G-"
      },
      "source": [
        "filepath = \"weights-improvement-experiment3.h5\"\n",
        "checkpoint = ModelCheckpoint(filepath, monitor = 'val_accuracy', verbose=1, save_best_only = True, mode = 'max')\n",
        "es = EarlyStopping(monitor = 'val_loss', mode = 'min', verbose = 1, patience=  20, min_delta = 0.01, baseline = 2.0)\n",
        "red_lr = ReduceLROnPlateau(monitor = 'val_accuracy', patience = 3, verbose = 1, factor = 0.1)\n",
        "callbacks_list = [checkpoint, es, red_lr]"
      ],
      "execution_count": null,
      "outputs": []
    },
    {
      "cell_type": "code",
      "metadata": {
        "id": "bKAxGorF5PtN"
      },
      "source": [
        "model.compile(loss = 'binary_crossentropy', optimizer = Adam(lr = 0.001), metrics = ['accuracy'])"
      ],
      "execution_count": null,
      "outputs": []
    },
    {
      "cell_type": "code",
      "metadata": {
        "id": "xfoOEtKd0khU"
      },
      "source": [
        "datagen = ImageDataGenerator(\n",
        "    featurewise_center = True,\n",
        "    featurewise_std_normalization = True,\n",
        "    rotation_range = 5,\n",
        "    width_shift_range = 0.2,\n",
        "    height_shift_range = 0.2,\n",
        "    horizontal_flip = True)\n",
        "\n",
        "datagen.fit(x_train)\n",
        "\n",
        "dev_generator = datagen.flow_from_dataframe(dataframe = data, directory = original_train,\n",
        "                                             x_col = 'filename',\n",
        "                                             y_col = 'label',\n",
        "                                             target_size = (32,32),\n",
        "                                             class_mode = 'binary',\n",
        "                                             #batch_size = 10,\n",
        "                                             #subset = 'validation',\n",
        "                                             #shuffle = True,\n",
        "                                             #seed = 7,\n",
        "                                            color_mode = 'rgb')\n",
        "\n",
        "test_datagen = ImageDataGenerator(rescale = 1./255)\n",
        "\n",
        "test_generator = test_datagen.flow_from_dataframe(dataframe = data_test,\n",
        "                                                directory = \"/content/catdog_test/\",\n",
        "                                                x_col = \"filename\",\n",
        "                                                y_col = None,\n",
        "                                                #batch_size = 10,\n",
        "                                                #seed = 7,\n",
        "                                                #shuffle = False,\n",
        "                                                class_mode = None,\n",
        "                                                target_size = (32,32),\n",
        "                                                color_mode = 'rgb')"
      ],
      "execution_count": null,
      "outputs": []
    },
    {
      "cell_type": "code",
      "metadata": {
        "id": "pBGNKFx05S6J"
      },
      "source": [
        "#Fit the model on batches with real-time data augmentation.\n",
        "history = model.fit(datagen.flow(x_train, y_train), epochs = 50, verbose = 1, callbacks = callbacks_list, validation_data = dev_generator)"
      ],
      "execution_count": null,
      "outputs": []
    },
    {
      "cell_type": "markdown",
      "metadata": {
        "id": "cLgKtRypJmrU"
      },
      "source": [
        "###Plot of accuracy of Train & Validation"
      ]
    },
    {
      "cell_type": "code",
      "metadata": {
        "id": "C09EuwKXDX1m"
      },
      "source": [
        "import matplotlib.pyplot as plt\n",
        "plt.plot(history.history['accuracy'])\n",
        "plt.plot(history.history['val_accuracy'])\n",
        "plt.title(\"Model Accuracy\")\n",
        "plt.ylabel(\"Accuracy\")\n",
        "plt.xlabel(\"Epochs/Iterations\")\n",
        "plt.legend(['Train','Validation'], loc = \"upper left\")\n",
        "plt.show()"
      ],
      "execution_count": null,
      "outputs": []
    },
    {
      "cell_type": "markdown",
      "metadata": {
        "id": "MMQ1sYUaJuL3"
      },
      "source": [
        "###Plot of Loss of Train & Validation"
      ]
    },
    {
      "cell_type": "code",
      "metadata": {
        "id": "P60mOIZzDa88"
      },
      "source": [
        "plt.plot(history.history['loss'])\n",
        "plt.plot(history.history['val_loss'])\n",
        "plt.title(\"Model Loss\")\n",
        "plt.ylabel(\"Loss\")\n",
        "plt.xlabel(\"Epochs/Iterations\")\n",
        "plt.legend(['Train','Validation'], loc=\"upper left\")\n",
        "plt.show()"
      ],
      "execution_count": null,
      "outputs": []
    },
    {
      "cell_type": "markdown",
      "metadata": {
        "id": "FAU7xrc6m5gn"
      },
      "source": [
        "Predict the output"
      ]
    },
    {
      "cell_type": "code",
      "metadata": {
        "id": "DfUjO9mam6jY"
      },
      "source": [
        "test_generator.reset()\n",
        "predictions = np.argmax(model.predict_generator(test_generator), axis = -1)\n",
        "\n",
        "filenames = test_generator.filenames\n",
        "results = pd.DataFrame({\"Filename\":filenames, \"Predictions\":predictions})\n",
        "\n",
        "results.to_csv(\"results_catsdogs_test.csv\", index = False)"
      ],
      "execution_count": null,
      "outputs": []
    },
    {
      "cell_type": "code",
      "metadata": {
        "id": "e6BDMVS-3lwa"
      },
      "source": [
        "predictions"
      ],
      "execution_count": null,
      "outputs": []
    },
    {
      "cell_type": "code",
      "metadata": {
        "id": "j7yPKcQa3oTo"
      },
      "source": [
        "results['Predictions']"
      ],
      "execution_count": null,
      "outputs": []
    },
    {
      "cell_type": "code",
      "metadata": {
        "id": "nDG2jswD0Ifx"
      },
      "source": [
        "data_test['label']"
      ],
      "execution_count": null,
      "outputs": []
    },
    {
      "cell_type": "code",
      "metadata": {
        "id": "i1RkijYNqr5a"
      },
      "source": [
        ""
      ],
      "execution_count": null,
      "outputs": []
    },
    {
      "cell_type": "markdown",
      "metadata": {
        "id": "46R5KzH39WN2"
      },
      "source": [
        "#Error Analysis & Data Mismatch"
      ]
    },
    {
      "cell_type": "markdown",
      "metadata": {
        "id": "OzOxJ0jE_Gvz"
      },
      "source": [
        "![image.png](data:image/png;base64,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)"
      ]
    },
    {
      "cell_type": "markdown",
      "metadata": {
        "id": "aa9XuODICETF"
      },
      "source": [
        "![image.png](data:image/png;base64,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)"
      ]
    },
    {
      "cell_type": "markdown",
      "metadata": {
        "id": "D6hYNiWwCNsy"
      },
      "source": [
        "![image.png](data:image/png;base64,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)"
      ]
    },
    {
      "cell_type": "markdown",
      "metadata": {
        "id": "geTpoaEkCUnh"
      },
      "source": [
        "![image.png](data:image/png;base64,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)"
      ]
    },
    {
      "cell_type": "markdown",
      "metadata": {
        "id": "ncYBMddc-Qxq"
      },
      "source": [
        "#Confusion Matrix"
      ]
    },
    {
      "cell_type": "code",
      "metadata": {
        "id": "75AvuYCT32mW"
      },
      "source": [
        "plt.figure(figsize=(10,5))\n",
        "from sklearn.metrics import confusion_matrix, classification_report, accuracy_score\n",
        "cm = confusion_matrix(np.asarray(data_test['label']), results['Predictions'])\n",
        "ax = plt.subplot()\n",
        "\n",
        "import seaborn as sns\n",
        "sns.heatmap(cm, annot = True, ax = ax)\n",
        "\n",
        "ax.set_xlabel('Predicted')\n",
        "ax.set_ylabel('Original')\n",
        "ax.set_title('Confusion Matrix')"
      ],
      "execution_count": null,
      "outputs": []
    },
    {
      "cell_type": "markdown",
      "metadata": {
        "id": "HMPpxiCiQ-p2"
      },
      "source": [
        "#Classification Report\n"
      ]
    },
    {
      "cell_type": "code",
      "metadata": {
        "id": "tdmLcZL34ClV"
      },
      "source": [
        "print(classification_report(np.asarray(data_test['label']), results[\"Predictions\"]))"
      ],
      "execution_count": null,
      "outputs": []
    },
    {
      "cell_type": "markdown",
      "metadata": {
        "id": "Wa5wtOZaRJry"
      },
      "source": [
        "Getting the test accuracy by checking on labels\n"
      ]
    },
    {
      "cell_type": "code",
      "metadata": {
        "id": "uUYyFbre4JWS"
      },
      "source": [
        "score = accuracy_score(results['Predictions'], data_test[\"label\"])\n",
        "print('Test Accuracy:', score*100)"
      ],
      "execution_count": null,
      "outputs": []
    },
    {
      "cell_type": "markdown",
      "metadata": {
        "id": "EigIPQ_RmtCQ"
      },
      "source": [
        "Screenshot of the **HIGHEST** Run-time Test Accuracy:"
      ]
    },
    {
      "cell_type": "markdown",
      "metadata": {
        "id": "1gXhM7-o5ZLd"
      },
      "source": [
        "![image.png](data:image/png;base64,iVBORw0KGgoAAAANSUhEUgAAAqYAAAB/CAYAAAA91QBRAAAgAElEQVR4Ae2dz4sc17XHZ5s/QH9Ab0LDLAReGLKwVp5VhAUa/BaCmDTPC5FABA4PYeI3CJ4biaDnhRkMRs8gj0WcYUhgDHaGh2DkyJk8EKOFmRDMiKCMHwh6IeiF6XkgOI9z7z23zrl1q7r65/SMvgLR3VV1f33ut+p+69xbNUuEfyAAAiAAAiAAAiAAAiCwAASWTqQOL3q09/E1Wv1Jm1qtFrVeWaGrN7fp8IdZ1aZHux/fps1vj2dVQHW+zzap02pR91H1Idhzmgn0aLPTos5Wb46N2Kduaw5lPupSq9Wl/cqWneB5VVmn5jt6W50h7Uvz8twnPZdHLzetB36DAAiAwNklMH9j+uKINt9uU+v167Tx8JB6z3t0+HCDrv+Ut92m/ZG8Y84U5LYd0p3XW7Ty8eGMezJT9qyM6VDTMGZTZ5XvmNVZ/GSZPp95pRfFmM7rvJoN0NENIozpbHoCuYIACIBAQWDuxrT/xVVqtTq0+X1RCfft+TZdbbXo6hf9ZEfdz5wpyG2ry2Oa+zJlw5hOE/AC5pXp85nXclGM6cwbOtMCYExniheZgwAIgMBYBOZsTHu0/XaLWu/tUjkwekxHj/do7ztrTHt763T19fNuyv/861fpzuOw30X2Wn4pAC8HYLO7w1OPybZnzCUZyMUs3j+kzfdW6XxYTnDt3qGt19NtWnvzVWq3WtT+SYfW97bdFGp2Ki9XHy67aVk/+Lq8utyi1vKrtPreNh29yPWpN0KmnTfVZGtvj9avrsQ2Xf14n/o6n/4+bbwT2tw6TytX12nPzUIPyddU5ZgOt9biUgzTL3KcLNd4hfujTa++uUab39leP/5um7pve75uOceHe9QLdc2aBseyQ5uuT4ncMZ07tHvvGjG3OJ2uGVSwrCw73CCt7eq6ejbtG3tWH66twZje26Pt91ZdPbj/OqotBx9eoNYbG2Ti9Y+61G6t0sZTAZZ89vbojvSTa8OmWuoS9Pz5Pu192Illrt7cjfx8brqffB9sJ+VVcuAM0uj5D/vUfb1F7bc3gzbteSV9tvvdJq1dlnP2Gm0k/d5/fKc4py+v0eb9O9Th8zf0a0LC/yz1qeYRtNDq0rCydd5S3+Ls0bxaVNa1b293Z5/uxHNslda2kusG6XzK3MvlEh3d71InLG1q/ySXp645voMACIDA2SUwZ2NqB7JhWI8fdWmltULXtw7clP/B3Y4fzJ8Q0Ytj6j8/oI0rLbpy94D6z/t0/H+Zbc7oJOUGs9h+ZZW6X/BygiPa/4jzvkDr34Za/bBH3dd4EF6n/ad96j/do9tv+jWxWWOaqw+X3aSssLyh/eZt2nNl7dIaG4CsgSc67vepf3+NWq012n3ep76szQ3GYeXfNungWZ96325QZ7lFq3fFEh3RxmVu04bb33+6T+tuWcU6HbyoyTfpqMO7q9Ra7tDGtz3qR3baZB3T/s0Vt1xjMxyz98EqtZc7tC3m4/tN6iy3afWDPTp6znXdpOu83OKDfWf+coO3Z1kYGHfMcpte/dk6bT/co/3vj4l+2KW15Rat3Nj1+T7Z9iy1qawtu0/bv0xunpxZbdPaQ21WBYoY+hW6fm+fjnhpyv3btMp1+OjAH/TtOl1oXaQN1m3458zq5Q06kg36M+lH0V777W3yK1m9ntvLrxLfeLgyv1ijlWTG4WirQ+3lVbr98Mj10+6NFWotr9Gu6KWWQ2JMRaPRlHKF7Xnl+6xN5y93aftJj6K+XvP6ck3kMlvcP9t06DTq+93dWIo2NAv+/nyHrjHPoOuChxhkMaZDyk7yTTU2XNe+vS1mej9cN+5dp5VWm659WdxQD+Oelnv8cI3arRVau8/91KND15c2z6Tq+AkCIAACZ5bAAhtTv37twodhcHdd4E1DO0YIQ7TKPHiS22YHUDGLdtnAAa2/VkTdvOlRgziX/8MuXa99kClTdjCmdWX1d65Tu3WVtp8rnTkzU5gwtcd/TaNZRHT48Qq1tAkgIrd0YrlL+8okG2P9bJfufLBB+zKuZvK1ZR/SRuciXftCPezzYs8+jOParEy+y8CzuRDM2v7NNrV+uU1SrDvERRGv0U5fjEby4I3Lt2Di+iht726XLr6x7tsbKn70+RXzkMuwsvtfXvOmP/hQ93t5jfZyvpRCu4xOiY7usXkP3Mlr62K8QfC/V+9lbamPBCft8pq9QOt/40Z5Pafnxs6vWtSSc6O/Q9eXk6UxL6zGh3EoIqZyo9GlfTG1jq09r7zhSnT8NzblRZ+5Mi9v0GGIjLtsvrtDF9Uxodvih5h4kyZEtsUQNik7Zhi++DSisQa6DtztuXxMezfa1Ops+puGBtxtuUT7N1tFele3Yzr44226vZPXR9oO/AYBEACBs0Tg5I1pOgUuA6szIW26/djiPrx7UV3EM0YwGIU4reuS2wFUjKkxaEk6N1jECJXUwedj08k+/szUJxhTm8Yely3reJfW6kxwyUD6PNsfFBOTrmZPNtSgHyKmb3Zp89ER9XNGq5Svbl/Vd8v3eJejuV3a0+bDJD2kjTdadOXz6oE3Hbxd8pwxFUNg8rc/bF7Dy6bA3k/nH9Puey0qboZs3tk+50MMdyKnW5nOT/bZHH15rf/Ys5vNL8tbdjkdyfnj+rFD2+r+gSjk7Y5pwCFoYfvLa9Rm45iuC89GTMXohVqZPqvQqDlGWiOfR7R5pUVyQyNbifqkjbjt41zZRUr5lk0jO91nyjl//ove3Zk3lHv5pksiplc/3qXDZ7mT0lQKP0AABEDgTBM4EWNqDImbAu/HafkY8fnujpuaNGspZf3o8u3wChtr8HxP5bYlA8xQs6gHcN3/+YGpOCJT9tCy+rTzb3pdrP3e+aNxFkVRJQPpI8xZXi1l8H84pO2bV2lF1n6+3aVdve6wlG9RZPzWP1B5FPWVm4HRB/yYc/ySzSMxMO6YjDHtPbxD18La4IKHGKZEC7FE/SVEwXgphTOp7ZrXfWX6nLNK+/3pBq2G6Xx7c6XL5e8+v3gepLvd73wbtDHlKHzR9qKP3DZ3w5XPwxTntNCm87+8Ttdey00t2zyG95m/MRKdxLKSfo3ba9rKu3R7h5dtc+VfpTRDdC2RanuTKUsefFR4OPdMuVyXPaXZV1bp2r1kbXi5+tgCAiAAAmeSwJyNaYhypFO4Dm0yILvBapXufMumNf0vUYWcKchtswNoyTSo8mXQdIPer3bsVHOIEJUGpiiNTNmpQakq670d6pXa2c9HNTmPkoH0Za9+4tfbpsyOM9HL494hbbt1h9fd9LmrWinf2LjwxZsLt0awl+8HiSCdRMTURZ+WO7T+6Ihim02bGkQKichHsdZoe2eN2um0ukGS6XPe76KiV1SU0XO7eHfHrfO108E6w2lGTNdop5eeO33qu1B5Aw6Om4+UHu916cJyGjW151XJ6HGzjOn0rErRT3OMZsHffcS0WAYh+8ODlCFCPLxsSVd82jTDdV1lTI3eHbM67nljGmv14piOHq27teGzf71dLBVfQAAEQGBhCMzZmMqAv0LdR2JqhIUftGKkSNbDpdO9P/TVU+Y+jYnAhoiT3WYH0CbGVNYVxgdFuJoN15iashsYU7cO9LUu7Zn1e+QMudApfQazpc2fW4vXKR4I8Wn4gbDw7dFtuvjGbbtWMq1fJl9Tdno873xxSHfeKNbner7pGtM+7bx3kTr3/INY2fWNf7tDV97o0m6fyA/2a2Qejk/WIjpjkURM3Q1Fsu34PkcPJWLKkbbM+lZVtmvvi33qLreovdwmu5bT0IgRzvQYu8bUp3H1XW6X1xMnWbrjUjP8fIfW3uiEB6gSPYf0OoJIbg3mBeqmC2P5wblwkzKUQ9CCXxzChrmtnsjnQm09rNELlUpM58FHF6g1szWmRR+70pOyQ43ih6lvE103WWPagLspl45o+1cX6eqWXdaS03GsOL6AAAiAwBkmMHdjyuvc3BPby6vU3eInivmJ9wPa/viqe7pVT133/shPystT+X3qPdl1T8Zf/OggvLYnRGA7G3T4vBeii7ltdgBtYkzpeJ9uu1fj+KfypWyeCq2OmGbKzg146VpUKUueyucn3flp3+VrtFMxk0/uoZIL1N3tUe95MPnPtn2kRZ5efnZIu/w0/E/X6YAPkSfW1X4fMVUP9uTy1SdAuGHgtxXsPenR0bfbtP4z/2ogiTbHPn79OslT+e6tBzrilj4RHp6eX7npn8r3xqp4uv7o0YZ7al8/ve0G+MSE+vfkrtDa1gEdPTukvXvX6SK/gksZUxpWdmivM/r6TQ2aQ/webqhYp8lT+cXbEMLB4YGd0kNfMa/wpfRUvn97QtVrmiS5MaZ8nn3AT+HLU/l98gx5Sj6IahgHY0wL/XTizaI9r6zhCrVKzaFoNDyVn+tXaU/8rHoq/0rxEFWjsmOG/otJ00jXvr25p/KL14sN527K5YcW3VsudD/5iGnVw3FJM/ATBEAABM4UgRMwphxh69PBF934LsMWv0/zZ9fozsOyC9PvMW3x2quPi3ddck8cc6TLrZcsHvQob7MDaCNjypl/v9P8PaZBFqWymxhTTqvfY8rv/Xy7S9vJ+x9DEeGjRzvvXvTvWNUPPOn3PbbO0+o7d8J7SiWZes+pe49pssaUKvLVhafvd324T5v8flr9wA6/x/RDu5Y1bc8xv+9S1oJm+pb7Xt7teD7zvks3wCfGlLW1zzc5ThPnafW9TTq4z+8M1dPqRMPKds19uFZ6y4HG4L97Y9pJ32Oavj/WHXxEG28mT8qXMwzZqn7i96KaP9mb6DnkYY0pb9Tv0/Tv4uXXo+m5iloOqTHltzy4B6FW6c53nL+tR2q4XLVSY8q1+nZ27zE1j/5lyg6o3EepvkN17dtbeo/pFzbaOYx7qdxSP2GNqe4nfAcBEHi5CJyMMT0tjNN1mW7doLyy57Q0AvUcj4B/AKq0HnK8zHwq9wCUfx3WJNmc+rTJeeWXbYDLqe9XNAAEQAAEpkAAxrQKYm+brv7kCq27F2kXywiKl5xXJcT2007guH9EB1v8wnr9RwMmaNWLY+o92XN/zCD/16MmyPuUJT1+vE4Xf3qdNvh1Zc9leUHxhxVOWXNQXRAAARAAgSkTgDGtAWpe4VL6s5A1CbHrFBMIT3vzXwXbLS8tGathj29Tm5dn/GpD/VnRsXI6A4mO6VAv43llha6qP996BhqIJoAACIAACExAAMZ0AnhICgIgAAIgAAIgAAIgMD0CMKbTY4mcQAAEQAAEQAAEQAAEJiAAYzoBPCQFARAAARAAARAAARCYHgEY0+mxRE4gAAIgAAIgAAIgAAITEIAxnQAekoIACIAACIAACIAACEyPAIzp9FgiJxAAARAAARAAARAAgQkIwJhOAA9JQQAEQAAEQAAEQAAEpkcAxnR6LJETCIAACIAACIAACIDABARgTCeAh6QgAAIgAAIgAAIgAALTIwBjOj2WyAkEQAAEQAAEQAAEQGACAjCmE8BDUhAAARAAARAAARAAgekRgDGdHkvkBAIgAAIgAAIgAAIgMAEBGNMJ4CEpCIAACIAACIAACIDA9AjAmE6PJXICARAAARAAARAAARCYgACM6QTwkBQEQAAEQAAEQAAEQGB6BGBMp8cSOYEACIAACIAACIAACExAAMZ0AnhICgIgAAIgAAIgAAIgMD0CMKbTY4mcQAAEQAAEQAAEQAAEJiAAYzoBPCQFARAAARAAARAAARCYHgEY0+mxRE4gAAIgAAIgAAIgAAITEIAxnQAekoIACIAACIAACIAACEyPAIzp9FgiJxAAARAAARAAARAAgQkIwJhOAA9JQQAEQAAEQAAEQAAEpkcAxnR6LJETCIAACIAACIAACIDABARgTCeAh6QgAAIgAAIgAAIgAALTIwBjOj2WyAkEQAAEQAAEQAAEQGACAlM1poPBgPAfDKABaAAagAagAWgAGoAGxtEAjCnMNG4moAFoABqABqABaAAaWAgNwJhCiAshxHHuqpAGd+PQADQADUAD0MDZ0gCMKYwpjCk0AA1AA9AANAANQAMLoQEYUwhxIYSIO96zdceL/kR/QgPQADQADYyjARhTGFMYU2gAGoAGoAFoABqABhZCAzCmEOJCCHGcuyqkwd04NAANQAPQADRwtjQAYwpjCmMKDUAD0AA0AA1AA9DAQmgAxhRCXAgh4o73bN3xoj/Rn9AANAANQAPjaADGFMYUxhQagAagAWgAGoAGoIGF0ACMKYS4EEIc564KaXA3Dg1AA9AANAANnC0NwJjCmMKYQgPQADQADUAD0AA0sBAagDGFEBdCiLjjPVt3vOhP9Cc0AA1AA9DAOBqAMYUxhTGFBqABaAAagAagAWhgITQwE2P6/Plzev/996nT6bj/6+vrc2vsH/7wh1gu14HrMo5jRxrc6S22Bh7QjaVLdPfJYvTTg7UlWlry/y99+nTq55zOf+nyXXpaGkC+oa/OnaOt3x9NvezGOvjH57R17rf02NTN1+uzn39O/zTbp9Nvj2+do8/OvUVf/2M6+TVu6+CIvv75Ofrs1jdl3k/u0qWghaUJNcr9Pgs9NW/nvLlWlPf1jXh+lZj+5bdRA//8/Vv0WaJBrxHWyejnh8sv18eNtBy0f65Ko+qcdefOOfrqL7r9fI0rris3vtb7BjRgnWWvBclxjeqKNIt0TszUmP71r38tX7SCSMRA5o5hIyumlj/1MX//+9/pF7/4Rdyv92mwvB3GFCeb1sTZ+f6U7l5ezAG70kg4s3KDHow5SFTmG/NTg1zcNiA9KPPAnA7aU9XEtI1pNj97Ti+kMY38J795Gt7vloczK0vj66xWDxNquDbvgT+nS+ZLWLIxrTJhQ4yplMtaGfXGbTJjKn3D52bu5kmds1ljKumr2bA+ltYeVPoMaTs+heXp+Jy7MZVo6ieffEK//vWvjelk8bBh1RFWNph83LNnz9x/nYZN6jvvvEP8mQoPxvR0CDDtN/we3m9PP71UPUjJQHZCn5VGYsJBvTLf2E4/yNmISzCmKuKTiyhNTXMNjORIZU07v8hquMaG19NHTOuNDozpcI7SF9Xmy+VRZ0y1TtikVkTnF8+Yeg35c7bKvDKfOjZ1+4QtPpvrcDFYzd2YsvFk08hGU5tMAcemlI+R32w6f/Ob37jjeXsaBU2Pl3SjG1MvcJmOXMrcdTtDUDG1ULdPBlV9jL0ztlMWc526MlNES2TrxSK1dSvdtSfpi7qXByXh4PpILrTOsITpGnPnm/RHJlqgeXK/+br7dEU9uA25bXUn4JA2h/yqtMLtLPbZ6XZhoOtumduybTukP2yeovmJ867sywG5+ur+qTCaUgepU0k/8fyxbdA8ir4s+qicb7GvKKu8zUUUlTEdDKyBlcHaG1Y/3WnNrT/eR1szEScXrfLp0oiszjM75T0YkDnmnExl2jKlbDNlHyJMaZkFiyQPbVa4zre+MWWnBjNfrzLforzcvvI1oP54ziM575fSmQF7fhTRsmR7I51ZDVbXbZy806ht2q5iP2u7uF4U3825L9fLCW4uROuldiYa1vp3Orj1jZl50PvlfBKNpjryZbEWcxHTnGZy2zw7e51Ux02BTYnJBJyRl+qbMTnO3ZhKp1UZUzaUMn0v0VWJoKbRVM4rt423j2pMSwNvAtQPnMXFRNrhPt2Arva538VFL154wsDu8opGKzVN/iJYeRIm9TL1GHnfA7qhzUbajmBKzQVSl5G009aF21Ew4H3GXLi0fBEO3JzRKY5/+ukNtX4yZRSMkqTVdRqEfZFvWIuU1MXW1Z5Ipp5J3nHg1NzUMbZvy/WcWAvMTbdNlT1Z3uX+0oxK50djYxrYVhzvyqjbF9pX3ye2/3S9mxhTN6gG8+oG4mji0qigN3txYHbmUA24OnKl+kUGd10v/u7NX7omVbWlIj+TT/aYtN7+dzTHYkTEsLvfqh7ZPFW9VNtMXUrb6zWVS+s0rM6ttN8frKnrbLg+mWtlnZae3KUbav1zeq7m6mO21eWdXDvTvEvnT4nV7M1X3ph+Q1+JDrhOiRa8RtUNmdmf6iw5P2IbZ2xMnQ6KscP0WazDOPpFmpNiuXDGlEGIaWWDmkZP9dS9rDcV46ohjmVMK4yORH3MBTAKvmyauB76guouttpM6Ascf9f7xFipi7NuV/rd5R2jA3K3Pe5JageS9OJqy863uzjG5sXbNZNBydTWX5jthZ3zlghp7uJhy7Zpc8fbbaX+in09IF9vPTjqtLl62XaV8h5RC3VtmSxvX/eqm5BSubreio/pY7W9du2fy6uuPxPt6HyHfE+NqfsdjWeY6le/B9qU8Xe9T8xkGMhLA71Oq+qVN6ZVg7jSU0V+xTk2IFNfKdOYh5Cfzov3m3YlxsEdK9FbVR/Jv/GnPQ9NvXN5ZDRVqaeQvrQ/k0dluaMcy+XVHM/1sOODbbs7fyrHF2ZsrxOlOtfckJaOzbEdeK3nI5q6j60WytpVumWdGB2Fmy1tdF1dbJ5N61scN4TNMHYVPIr8dfvxfRG4LJwxZUPJDzex6RSDqqfv2ajKg1G8/d69e8a8CtRRjSmn44uLTKmYAdpdkKrMXv6k0RdM/V3qFz+dQSvKlfKLKarZnii6zb7sop1uX6VBzpkwXVd7YRa+keuwC61jnnCRutT2h69DwZz7p2hT5F57sfJ9Kn2hBxw3wCQ3EkWe5TanA05RL80qfG+ghbo+mTRvP/AKc2u+Z2pMuS902zN8a9tW05fOiLqHnsJ0ezKQlsylzssZPD1NH75Pw5g686eirbpc+a7NpGxLP3PHlIxnYmBL+zPGQbc9YVboPaNhU7/c+VCTJmP8Sv2udRJuyOM1hcvO5FHU157X/vy2Oi+OzdSzMu9cvnwe2euOO3dzdXbMfB76WmPqMux6abhn6l5jTEvniJp2LxtTHyV1swZaI/ocm7sxHf/G1TBuwBDH57U1bS4LZUxl6l5HScWcstHMNZ6jpbl94xjTIn9vuooLXt0F1l9QimO54+y20sVVnwATXnD0xU6MVHpBLNplRVW+i7ftLJkRXe+hd6k2L66D4VDb7pR/usaxnHepjZI/DyYZo1M63rRNcXKDkYqGSL7Z43297eBitxkGaR61efs61fXJpHlrJqk2SuVWDNKVdag4Xpcp3zmPdLlCZb4pw+S3G3RLA2XRv0ONaY0pK6XNmcQkyipt9GvzZmhMk1cGmSnaJsZUcXQMazgUbSq4+m0NzlNVTs5Umn5Pz8X0msJ51eispKuaY7Ntqjx+iKnUbXTf/TUhN2bYa4fi2eDakK2zKrukV9Gm0Yq9SSkbU7W/pCNVX1VuI62b49N8hvEdtj/ND7+HaeWk9y+kMdVT82wwJYKawuLj9LF6/2TG1BpLzrd0UVMnUjqIp9O95uKq0vn65i5S8zlxXL2VaXNt1Hf5mYFAMy6127TNGjJ/rHqQofZCa9PGSJ5ETIf0h69j6MPLl5IptlHZJnUZsu421UmOsR2QdH0aaKGG21R1xuWoqUfbDl9PvV90UV2HlKNut/1uy/L7qvO1aaUe8ulM1bjGNDwoVTX96QbtaNh4wOaIqlqrGc6H8uDu6zzc8Pk845pWc36FdmfNsE9X1DtZC1gyFMpsZMqw7aznLdz9J/e5jRrKfneelJbjWI2UrhnueqTycxpV1xRXd5uHlMefrsx4DfHXh5yGdRr7vTpvX9em0dfy+FKuX8K55ry3dUzSqf6sNKZRw/J6teKGKdWu1UKqs6qy6/U1vP6eV6VpxxrTbNBuONeq/jr57XM3pmwYZSpef/J2BikRUtmnTWm6T0dW004YzZjKRUqmMfPvRpOLqUQm9YkiF1G/T108c3f16mLh6+0veJIvf+q807ZN77ct99Knd8sDSTCnsW7KyHI9bLuTQSIMHC7t2oMRIqZpvjfoLr8iKQ4q/sSp64+ibk0HCzkZLROue9lIpsfYMmy9yvvK+UnZ/JnmnWrB78/pg8sdO2/dV2660WpYZgG8Di7R3a/5JerStnKds9xMGUX+qYZyZmF42zTD4vtkxpTz8YOvPHXMn4VRDA8VOUPKgzkfK8ZU71PLARKT7OqnpkGLvEMbzHRpYhhUOl8/KTtTb13uEGPqzIfJW+dbsB1+HWJdFP1sjg9aKOlVa2Ttgbu+6GPMuXX5Lt3NaV7noctPrmU3PtUabtiuqrwz18Ii6t9sfEnPfd1uF+xIrr2GZ2lMkfaU9ctaKW5a7P6t339unqAvaUGZWF++TW/OD6NdOQcKDTerP7djiDHlPhmLjTDCZ/O+mA+ruRvTeQEYzZjOB/a82o5yfH86w5OY2bPAxrXrJbsQj2tMz0J/n9421BjTIbMxp7fNMxpLXmrzVWdM6/bNqC8qbwJQ3rTOWxhTiOzMTQO4kyOd9jtT/ewvxiaicqbaV77Aw5iWmUxrEJhdPjlj6rXLEfVc1H92dTmN/FSdYUyzenER9DMYfHjZz4OZGlOZjq9aBzoL+OlT+/xA1SzKQZ7qorlIpkhN1+UGPjMVWHrNlkxNL2jbDOfcoH8a6j1eHU2/vWTR4lN3rVHnYNMHMU+2jXwuqWVc6fdFMD41SwhOlt1453OzOtt+KV3PWWe4FpxJfzMTY9pMdLMUNPJGH0AD0AA0AA1AA9AANHDaNABjaqJQEPBpEzDqC81CA9AANAANQANnRwMwpjCmZ3IqABeps3ORQl+iL6EBaAAaeHk0AGMKYwpjCg1AA9AANAANQAPQwEJoAMYUQlwIIeJu+OW5G0Zfo6+hAWgAGoAGqjQAYwpjCmMKDUAD0AA0AA1AA9DAQmgAxnSKQvz+q3+ld9/6MW08ntWdUPXLhP1f6Bj3L7TMqr7It+qOsH67/2sqxV9nOSMc+fUuJ/DqHX7VVOlVM1M87+v78oz0HXgtxIANreF8ehk0AGM6xQvu+Mb0e/rvG8MNbd3LhLPGNPsn4fJ/z3tcsef+/vIoecmfZCz9KcYp9sso9WRZG84AAA3TSURBVFmMY8+YMY3vG3xAN9iYxt92kPnz767Qj279O3321G4fDL6nzz7ifeH/7x4nJuExvS/7bl2hf/nT93Y/l6f/NOVLra2ULX4vxjmPfkA/QAOiARjThRikGhhT94Ll6hfAO2Na+jvGInT/d7tnEYGbzJiyAfstPWYDrf+W90L0ibA7iU9vTM+UWXfmUF5inurYG8v3//Ql/UvGmDrDGs2oP7Ywn960xt9POY8r9P6jpN9e6r+ck7B46c8v8BADgE9oYRE1AGPqLtJsDP+V/vt//4c23vqxm45/96336XG8gBfG8fEnsp+PF1HrdHo776/Pu8hP8vWf//mVjvpUT+E3E1WNMTVR1bfo639Im/ynj8RylNX/F7OUbpf9IxlMLtuZ6WBQI+9QB1O3c5Qa67QOUrdBzFfawvmrtsn+f3xOW6Fdtt7eGFa3yfOM+9lcu7rnDGX1Nlum1HWSz+LPPfKffFxaSg3ggJ5+eon8Pm8S9RR33b6BGDttMM20vP0rLaU/l6rTJX+t5c+/C1FSZyqTiGlm2z//9O/0o4++pH8y80f/RT+69V/0Z6Uda2SF56TnkOSDz2bXHHACJ2gAGhhPAzCmbkDzxvPdtwpT6QzjJ/8TpgRl/49JDKPdL/DZoBZ5eFFKWtnuf0s++pjKtaluUC+bjOairzCmzpglhi2arAEN3H4xXdJG+zlJxLRI6+sXjSX3iTOlqm7KeHC7vSmtqJsYz5gmY0ydIQ3pEw6Pb+l8U2MZTGlFhNctTdD7XDt0fszP5zltY+qMpTGLtq+88azQURqRd78v0d0nIQ/3W5ldp0nZ701fYUa9SY2ml491ZrR+Kn+QMaHOeIoJ5f50RpSn9L0ZdSY1RlMH5H7ztL5OE3QwjE/z88lyRTrwgAagAWhgehqAMXWDljeLxhg+fp/evfE7+l7tfzca1QENzH7pkGpjqvN2a1F1Xi6qWrPGVKJVYYAd/QTIG1M2dzYKmRjEEFE0hjGpQ2EuhUHTT2sWndGMhi5f36LdqVlMymxkTLXpTdpd18as0VTlJ2Z+fD4qz6Q+BQd7TK3xHCRm0eSZGkufL69pjmYzNaoDFYGMxrOoT9YE8nE1xrnWmIYpem9IeTrfR1ajMRXDyobUHWujqI7ZxOdR0b6qPsB2MIIGoAFoYDINwJi6AbrCmMbp/Mx+M7BLJ8zGmLpBPpn+HE34eaPnonsyla0+jRF1RixM5WfWsI5tvFLzaAzdEOOZRDhLLNK8XYRSGdHSfum/8KnbHLiIgXcGOsOhqIM2udyONFqalJXV0fjHuAfk3DS+MpVcholwpvkrk6nqUzKmVRqM0VRZQxo+60yoKieyq4qYugeblNFUxjMbIWWTmomYegYVEeNcfbDNPkQGHuABDUADc9AAjKmDnDGeJiKa2Z/tnNkY07i+L1tmajJyv6uNqRiuaA5qynBGNjFl4xrTelOszV2uPTbaWqp7yXgmx5f2qzIyUWLTxrq0gV2M/vKxMQqsyqhhXGrL2Mf6CGmMeLqIqUy9p3XJRUyTbXXRxrp9o9Q/Z0xz27TxdJFSZVp5mQevQVXT+5HptOo5SptwLAZyaAAagAZG0gCMqRNMajzZYBbrSf0DTDVT7VF04xrTAeXXrAYD4aJdk0R68sZ02DrOOKCH9uWihbltabry77zxdGY1GDmXb0200R2bmORYDhvCmNaX9Vnu4afYb8qopdFYl5d+8MpHc+sNvTfCWz9XUVpTls9jPNPqDePS0NcfJcZyMCAXTa2IepaWAbgoqNJcralLTbDiado9ZHvOhMqromIENHkKfxBeFRWNaHjCP30qfxAe/Bo1ijtK/XHsSINPPF/BDdygAWhAaQDG1MHwxpRfji//R3o4iaOrKq3/bh92ql9jygO2N8OSjy2/bDJGu6hXGFNuezBe5SfM5QGj4on8wuxpgyHGLxzXJEJopu1VXsZQlstPzWAaddVLEPS+r/4yQsR0MCCdlt8a8PUtbUy5vsFYxuUP5en6WuMs6ZuwUier9Lk3kelL48Wwqun0jAnTU/38dH58QEmMW1gGUDK+tcaUmXhzWvXEv9Q99xmn49W7SO37TO17TOOroSKbYE5D+tKrotxxno9ub64u2KbOx8gX26ALaAAamJ8GYEzdxTeNmM6vAxqLPY1gYdBY6DtMNqapkW7c18P61mmhalp+AbU7rD3z2D/UWIPb1PQ5j/5EGQt9/YOWcD2ZRAMwpu4CdwqMqUzFZqJgkwgAaWdwAUkiv9NjLFFJmNKRmNY++DWD/odpgmmCBqABaGBsDcCYniJjOtCv6IHoxxb9SKZmFM5xWUTV2lKYoJmxr+knXr6AKXxo7yS0hzKhO2hgdA3AmNYMaBDU6IICMzCDBqABaAAagAaggXE1AGMKY7p4kUf0CfoEGoAGoAFoABp4KTUAYwrhv5TCH/dODukQBYAGoAFoABqABmanARhTGFMYU2gAGoAGoAFoABqABhZCAzCmEOJCCBF3n7O7+wRbsIUGoAFoABo4LRqAMYUxhTGFBqABaAAagAagAWhgITQAYwohLoQQT8udHOqJqAM0AA1AA9AANDA7DcCYwpjCmEID0AA0AA1AA9AANLAQGoAxhRAXQoi4+5zd3SfYgi00AA1AA9DAadEAjCmMKYwpNAANQAPQADQADUADC6EBGFMIcSGEeFru5FBPRB2gAWgAGoAGoIHZaQDGFMYUxhQagAagAWgAGoAGoIGF0MBUjSnhHwiAAAiAAAiAAAiAAAiMSQDGdExwSAYCIAACIAACIAACIDBdAjCm0+WJ3EAABEAABEAABEAABMYkAGM6JjgkAwEQAAEQAAEQAAEQmC4BGNPp8kRuIAACIAACIAACIAACYxKAMR0THJKBAAiAAAiAAAiAAAhMlwCM6XR5IjcQAAEQAAEQAAEQAIExCcCYjgkOyUAABEAABEAABEAABKZLAMZ0ujyRGwiAAAiAAAiAAAiAwJgEYEzHBIdki0iA5bwo/xeRD+oEAiAAAiAAAotNAMZ0sfsHtaslsCgmNFeP2opjJwiAAAiAAAiAQIYAjGkGCjYtOoGcEVy0bYvOEPUDARAAARAAgcUjAGP6qEutVivzv0v7U+qv/Zst6mz1xs6N03Mdu4/GzuKMJaw3od3WErX0/84S9dQUf2/L7t9X+4YuBXhk024+q6rLGUOO5oAACIAACIDAHAjAmEbIPdrsTGYgY1bJl8mM6T51W13aZwN9c1pWOangqftZZQb9djamlWYzGEvZv39ziVqJca00p8+WqNNaIjGjYnAlL5vu1EFFhUEABEAABEDgxAnAmMYuqDOmbA6LqGop+plEXWV/b6uTicS2RjOYnHdnk3oUDGqsr3yxdfPHyj4iqqib2+7ylWM5nw5tPgu/pdxnm9SRthtj7HnFaLPJy+eRtt9HfH19bfS3elvejI9vTDc7S9TZUukTs2nNpTqOlsiZ2Jt2G5vg7iO7zechXPEJAiAAAiAAAiDQlACPqPjnCFQZ03R7aqISQ5ehOUnEtEjr65EzdGKES0U7U6rMpj5AjGfclrQjGtqwpMEZ1CKv3la3MLGUMiLypjS/HMItTdAm15WVHus5T9uYspGUiCcbSJn2z5tLazjZ1Orj+DcvGTBGNy4LiGDxBQRAAARAAARAoCEBGNMIqmyu3C42ZEk00JmuaKy8gao0h0RUmMtYWMMv1izacoP5S+pWZFzRHjmgkTEtjCgF82mNsWQW6pIwqTqWnMktjOjofKxhTKOcYjZlnWlqRPm3mEo2mhwJzZtLW44YUxc5DYbUTecnUVRETAtd4BsIgAAIgAAIjEIAxjTSqjByMXJYTOW76etowoi80ZL9heGSrEc3XiFlah4zhi4fUeT03jBXmsM0b3e8MqKl/dKa8OnqIm0On8LE7VN5JUmtyeV6lpmVkpgN1jCmxtT8DmtKxZyKaU0jn/q3SR8joIWZ1Sa22tSaCuMHCIAACIAACIBAAwIwphFSjTGtjErGxPFLbgp7XGPK6eIaTlnnqZ7OTyOosRLui2/PbIxpOUps62IjvbZe/lc8ng2wGNrcgdltIxjTMF0vxpSjntpYsglNp/erjGlujalEUctpshXHRhAAARAAARAAgRoCMKYRToUxDZHHuqn6mAV/YaOVRACdCRvB3Pr88sbSmVUxciFqWWU+XblJXWJdTT19Wa3cw08xgf6SRGMleir1CssXSg9i6SxChLbTqYqs+jLyprW5MXVmUj11L0/Si1F1v9V+ZzDllVDpFH3YHqOryRP+1pyaxuIHCIAACIAACIBAAwIwphFSlTHlA4JJykQt06fejblL8o7RT2Xg4iHpF2f2MlPcxlCmywha4Qn+IjNvTovIqzbYOiLbfZREObmcGjNt8+3SJr+BIGmXzp/bnhpot7+yjDGNqZhKeY9pai5picScujWoqSnlqXvJI5M27gv5518VhdOqUCC+gQAIgAAIgEBzAhhBm7PCkVMmwMZUG+Xm2TePmNoo5jzTNW8NjgQBEAABEAABEPAEYEyhhJMhkEZ+R6rFPA3muGWN1CAcDAIgAAIgAAIgQD6cBBAgMD8CzpDy0oKqtaVNqjKuWZxnuibtwDEgAAIgAAIgAAKaAI/U+AcCp4zAPA3muGWdMqSoLgiAAAiAAAgsAAEY0wXoBFRhVAIwi6MSw/EgAAIgAAIgcBoIwJiehl5CHRMCoxjTJCl+ggAIgAAIgAAILCyB/wc7BhyfeJ/q3AAAAABJRU5ErkJggg==)"
      ]
    },
    {
      "cell_type": "markdown",
      "metadata": {
        "id": "pfhzIeqR00Xj"
      },
      "source": [
        "\n",
        "\n",
        "---\n",
        "\n",
        "---\n",
        "\n",
        "---\n",
        "\n",
        "\n",
        "\n",
        "\n",
        "\n"
      ]
    }
  ]
}